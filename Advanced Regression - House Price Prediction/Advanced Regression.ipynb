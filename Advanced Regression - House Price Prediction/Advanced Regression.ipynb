{
 "cells": [
  {
   "cell_type": "markdown",
   "metadata": {},
   "source": [
    "# Advanced Linear Regression"
   ]
  },
  {
   "cell_type": "markdown",
   "metadata": {},
   "source": [
    "## House  Case Study\n",
    "\n",
    "#### Problem Statement:\n",
    "\n",
    "A US-based housing company named Surprise Housing has decided to enter the Australian market. The company uses data analytics to purchase houses at a price below their actual values and flip them at a higher price. For the same purpose, the company has collected a data set from the sale of houses in Australia. The data is provided in the CSV file below.\n",
    "\n",
    "\n",
    "The company is looking at prospective properties to buy to enter the market.\n",
    "\n",
    "You are required to build a regression model using regularisation in order to predict the actual value of the prospective properties and decide whether to invest in them or not.\n",
    "\n",
    "The company wants to know:\n",
    "\n",
    "1. Which variables are significant in predicting the price of a house, and\n",
    "\n",
    "2. How well those variables describe the price of a house."
   ]
  },
  {
   "cell_type": "code",
   "execution_count": 823,
   "metadata": {},
   "outputs": [],
   "source": [
    "# Supress Warnings\n",
    "\n",
    "import warnings\n",
    "warnings.filterwarnings('ignore')"
   ]
  },
  {
   "cell_type": "code",
   "execution_count": 824,
   "metadata": {},
   "outputs": [],
   "source": [
    "#Import NumPy and Pandas\n",
    "\n",
    "import pandas as pd\n",
    "import numpy as np\n",
    "import matplotlib.pyplot as plt\n",
    "import seaborn as sns\n",
    "import datetime\n",
    "%matplotlib inline"
   ]
  },
  {
   "cell_type": "markdown",
   "metadata": {},
   "source": [
    "## Step 1: Reading and Understanding the Data"
   ]
  },
  {
   "cell_type": "markdown",
   "metadata": {},
   "source": [
    "##### A. Importing Csv File\n"
   ]
  },
  {
   "cell_type": "code",
   "execution_count": 825,
   "metadata": {},
   "outputs": [
    {
     "data": {
      "text/html": [
       "<div>\n",
       "<style scoped>\n",
       "    .dataframe tbody tr th:only-of-type {\n",
       "        vertical-align: middle;\n",
       "    }\n",
       "\n",
       "    .dataframe tbody tr th {\n",
       "        vertical-align: top;\n",
       "    }\n",
       "\n",
       "    .dataframe thead th {\n",
       "        text-align: right;\n",
       "    }\n",
       "</style>\n",
       "<table border=\"1\" class=\"dataframe\">\n",
       "  <thead>\n",
       "    <tr style=\"text-align: right;\">\n",
       "      <th></th>\n",
       "      <th>Id</th>\n",
       "      <th>MSSubClass</th>\n",
       "      <th>MSZoning</th>\n",
       "      <th>LotFrontage</th>\n",
       "      <th>LotArea</th>\n",
       "      <th>Street</th>\n",
       "      <th>Alley</th>\n",
       "      <th>LotShape</th>\n",
       "      <th>LandContour</th>\n",
       "      <th>Utilities</th>\n",
       "      <th>...</th>\n",
       "      <th>PoolArea</th>\n",
       "      <th>PoolQC</th>\n",
       "      <th>Fence</th>\n",
       "      <th>MiscFeature</th>\n",
       "      <th>MiscVal</th>\n",
       "      <th>MoSold</th>\n",
       "      <th>YrSold</th>\n",
       "      <th>SaleType</th>\n",
       "      <th>SaleCondition</th>\n",
       "      <th>SalePrice</th>\n",
       "    </tr>\n",
       "  </thead>\n",
       "  <tbody>\n",
       "    <tr>\n",
       "      <th>0</th>\n",
       "      <td>1</td>\n",
       "      <td>60</td>\n",
       "      <td>RL</td>\n",
       "      <td>65.0</td>\n",
       "      <td>8450</td>\n",
       "      <td>Pave</td>\n",
       "      <td>NaN</td>\n",
       "      <td>Reg</td>\n",
       "      <td>Lvl</td>\n",
       "      <td>AllPub</td>\n",
       "      <td>...</td>\n",
       "      <td>0</td>\n",
       "      <td>NaN</td>\n",
       "      <td>NaN</td>\n",
       "      <td>NaN</td>\n",
       "      <td>0</td>\n",
       "      <td>2</td>\n",
       "      <td>2008</td>\n",
       "      <td>WD</td>\n",
       "      <td>Normal</td>\n",
       "      <td>208500</td>\n",
       "    </tr>\n",
       "    <tr>\n",
       "      <th>1</th>\n",
       "      <td>2</td>\n",
       "      <td>20</td>\n",
       "      <td>RL</td>\n",
       "      <td>80.0</td>\n",
       "      <td>9600</td>\n",
       "      <td>Pave</td>\n",
       "      <td>NaN</td>\n",
       "      <td>Reg</td>\n",
       "      <td>Lvl</td>\n",
       "      <td>AllPub</td>\n",
       "      <td>...</td>\n",
       "      <td>0</td>\n",
       "      <td>NaN</td>\n",
       "      <td>NaN</td>\n",
       "      <td>NaN</td>\n",
       "      <td>0</td>\n",
       "      <td>5</td>\n",
       "      <td>2007</td>\n",
       "      <td>WD</td>\n",
       "      <td>Normal</td>\n",
       "      <td>181500</td>\n",
       "    </tr>\n",
       "    <tr>\n",
       "      <th>2</th>\n",
       "      <td>3</td>\n",
       "      <td>60</td>\n",
       "      <td>RL</td>\n",
       "      <td>68.0</td>\n",
       "      <td>11250</td>\n",
       "      <td>Pave</td>\n",
       "      <td>NaN</td>\n",
       "      <td>IR1</td>\n",
       "      <td>Lvl</td>\n",
       "      <td>AllPub</td>\n",
       "      <td>...</td>\n",
       "      <td>0</td>\n",
       "      <td>NaN</td>\n",
       "      <td>NaN</td>\n",
       "      <td>NaN</td>\n",
       "      <td>0</td>\n",
       "      <td>9</td>\n",
       "      <td>2008</td>\n",
       "      <td>WD</td>\n",
       "      <td>Normal</td>\n",
       "      <td>223500</td>\n",
       "    </tr>\n",
       "    <tr>\n",
       "      <th>3</th>\n",
       "      <td>4</td>\n",
       "      <td>70</td>\n",
       "      <td>RL</td>\n",
       "      <td>60.0</td>\n",
       "      <td>9550</td>\n",
       "      <td>Pave</td>\n",
       "      <td>NaN</td>\n",
       "      <td>IR1</td>\n",
       "      <td>Lvl</td>\n",
       "      <td>AllPub</td>\n",
       "      <td>...</td>\n",
       "      <td>0</td>\n",
       "      <td>NaN</td>\n",
       "      <td>NaN</td>\n",
       "      <td>NaN</td>\n",
       "      <td>0</td>\n",
       "      <td>2</td>\n",
       "      <td>2006</td>\n",
       "      <td>WD</td>\n",
       "      <td>Abnorml</td>\n",
       "      <td>140000</td>\n",
       "    </tr>\n",
       "    <tr>\n",
       "      <th>4</th>\n",
       "      <td>5</td>\n",
       "      <td>60</td>\n",
       "      <td>RL</td>\n",
       "      <td>84.0</td>\n",
       "      <td>14260</td>\n",
       "      <td>Pave</td>\n",
       "      <td>NaN</td>\n",
       "      <td>IR1</td>\n",
       "      <td>Lvl</td>\n",
       "      <td>AllPub</td>\n",
       "      <td>...</td>\n",
       "      <td>0</td>\n",
       "      <td>NaN</td>\n",
       "      <td>NaN</td>\n",
       "      <td>NaN</td>\n",
       "      <td>0</td>\n",
       "      <td>12</td>\n",
       "      <td>2008</td>\n",
       "      <td>WD</td>\n",
       "      <td>Normal</td>\n",
       "      <td>250000</td>\n",
       "    </tr>\n",
       "  </tbody>\n",
       "</table>\n",
       "<p>5 rows × 81 columns</p>\n",
       "</div>"
      ],
      "text/plain": [
       "   Id  MSSubClass MSZoning  LotFrontage  LotArea Street Alley LotShape  \\\n",
       "0   1          60       RL         65.0     8450   Pave   NaN      Reg   \n",
       "1   2          20       RL         80.0     9600   Pave   NaN      Reg   \n",
       "2   3          60       RL         68.0    11250   Pave   NaN      IR1   \n",
       "3   4          70       RL         60.0     9550   Pave   NaN      IR1   \n",
       "4   5          60       RL         84.0    14260   Pave   NaN      IR1   \n",
       "\n",
       "  LandContour Utilities  ... PoolArea PoolQC Fence MiscFeature MiscVal MoSold  \\\n",
       "0         Lvl    AllPub  ...        0    NaN   NaN         NaN       0      2   \n",
       "1         Lvl    AllPub  ...        0    NaN   NaN         NaN       0      5   \n",
       "2         Lvl    AllPub  ...        0    NaN   NaN         NaN       0      9   \n",
       "3         Lvl    AllPub  ...        0    NaN   NaN         NaN       0      2   \n",
       "4         Lvl    AllPub  ...        0    NaN   NaN         NaN       0     12   \n",
       "\n",
       "  YrSold  SaleType  SaleCondition  SalePrice  \n",
       "0   2008        WD         Normal     208500  \n",
       "1   2007        WD         Normal     181500  \n",
       "2   2008        WD         Normal     223500  \n",
       "3   2006        WD        Abnorml     140000  \n",
       "4   2008        WD         Normal     250000  \n",
       "\n",
       "[5 rows x 81 columns]"
      ]
     },
     "execution_count": 825,
     "metadata": {},
     "output_type": "execute_result"
    }
   ],
   "source": [
    "House = pd.read_csv(\"train.csv\")\n",
    "House.head()"
   ]
  },
  {
   "cell_type": "markdown",
   "metadata": {},
   "source": [
    "##### B. Inspect the various aspects of the housing dataframe"
   ]
  },
  {
   "cell_type": "code",
   "execution_count": 826,
   "metadata": {},
   "outputs": [
    {
     "data": {
      "text/plain": [
       "(1460, 81)"
      ]
     },
     "execution_count": 826,
     "metadata": {},
     "output_type": "execute_result"
    }
   ],
   "source": [
    "House.shape"
   ]
  },
  {
   "cell_type": "code",
   "execution_count": 827,
   "metadata": {},
   "outputs": [
    {
     "name": "stdout",
     "output_type": "stream",
     "text": [
      "<class 'pandas.core.frame.DataFrame'>\n",
      "RangeIndex: 1460 entries, 0 to 1459\n",
      "Data columns (total 81 columns):\n",
      "Id               1460 non-null int64\n",
      "MSSubClass       1460 non-null int64\n",
      "MSZoning         1460 non-null object\n",
      "LotFrontage      1201 non-null float64\n",
      "LotArea          1460 non-null int64\n",
      "Street           1460 non-null object\n",
      "Alley            91 non-null object\n",
      "LotShape         1460 non-null object\n",
      "LandContour      1460 non-null object\n",
      "Utilities        1460 non-null object\n",
      "LotConfig        1460 non-null object\n",
      "LandSlope        1460 non-null object\n",
      "Neighborhood     1460 non-null object\n",
      "Condition1       1460 non-null object\n",
      "Condition2       1460 non-null object\n",
      "BldgType         1460 non-null object\n",
      "HouseStyle       1460 non-null object\n",
      "OverallQual      1460 non-null int64\n",
      "OverallCond      1460 non-null int64\n",
      "YearBuilt        1460 non-null int64\n",
      "YearRemodAdd     1460 non-null int64\n",
      "RoofStyle        1460 non-null object\n",
      "RoofMatl         1460 non-null object\n",
      "Exterior1st      1460 non-null object\n",
      "Exterior2nd      1460 non-null object\n",
      "MasVnrType       1452 non-null object\n",
      "MasVnrArea       1452 non-null float64\n",
      "ExterQual        1460 non-null object\n",
      "ExterCond        1460 non-null object\n",
      "Foundation       1460 non-null object\n",
      "BsmtQual         1423 non-null object\n",
      "BsmtCond         1423 non-null object\n",
      "BsmtExposure     1422 non-null object\n",
      "BsmtFinType1     1423 non-null object\n",
      "BsmtFinSF1       1460 non-null int64\n",
      "BsmtFinType2     1422 non-null object\n",
      "BsmtFinSF2       1460 non-null int64\n",
      "BsmtUnfSF        1460 non-null int64\n",
      "TotalBsmtSF      1460 non-null int64\n",
      "Heating          1460 non-null object\n",
      "HeatingQC        1460 non-null object\n",
      "CentralAir       1460 non-null object\n",
      "Electrical       1459 non-null object\n",
      "1stFlrSF         1460 non-null int64\n",
      "2ndFlrSF         1460 non-null int64\n",
      "LowQualFinSF     1460 non-null int64\n",
      "GrLivArea        1460 non-null int64\n",
      "BsmtFullBath     1460 non-null int64\n",
      "BsmtHalfBath     1460 non-null int64\n",
      "FullBath         1460 non-null int64\n",
      "HalfBath         1460 non-null int64\n",
      "BedroomAbvGr     1460 non-null int64\n",
      "KitchenAbvGr     1460 non-null int64\n",
      "KitchenQual      1460 non-null object\n",
      "TotRmsAbvGrd     1460 non-null int64\n",
      "Functional       1460 non-null object\n",
      "Fireplaces       1460 non-null int64\n",
      "FireplaceQu      770 non-null object\n",
      "GarageType       1379 non-null object\n",
      "GarageYrBlt      1379 non-null float64\n",
      "GarageFinish     1379 non-null object\n",
      "GarageCars       1460 non-null int64\n",
      "GarageArea       1460 non-null int64\n",
      "GarageQual       1379 non-null object\n",
      "GarageCond       1379 non-null object\n",
      "PavedDrive       1460 non-null object\n",
      "WoodDeckSF       1460 non-null int64\n",
      "OpenPorchSF      1460 non-null int64\n",
      "EnclosedPorch    1460 non-null int64\n",
      "3SsnPorch        1460 non-null int64\n",
      "ScreenPorch      1460 non-null int64\n",
      "PoolArea         1460 non-null int64\n",
      "PoolQC           7 non-null object\n",
      "Fence            281 non-null object\n",
      "MiscFeature      54 non-null object\n",
      "MiscVal          1460 non-null int64\n",
      "MoSold           1460 non-null int64\n",
      "YrSold           1460 non-null int64\n",
      "SaleType         1460 non-null object\n",
      "SaleCondition    1460 non-null object\n",
      "SalePrice        1460 non-null int64\n",
      "dtypes: float64(3), int64(35), object(43)\n",
      "memory usage: 924.0+ KB\n"
     ]
    }
   ],
   "source": [
    "House.info()"
   ]
  },
  {
   "cell_type": "code",
   "execution_count": 828,
   "metadata": {},
   "outputs": [
    {
     "data": {
      "text/html": [
       "<div>\n",
       "<style scoped>\n",
       "    .dataframe tbody tr th:only-of-type {\n",
       "        vertical-align: middle;\n",
       "    }\n",
       "\n",
       "    .dataframe tbody tr th {\n",
       "        vertical-align: top;\n",
       "    }\n",
       "\n",
       "    .dataframe thead th {\n",
       "        text-align: right;\n",
       "    }\n",
       "</style>\n",
       "<table border=\"1\" class=\"dataframe\">\n",
       "  <thead>\n",
       "    <tr style=\"text-align: right;\">\n",
       "      <th></th>\n",
       "      <th>Id</th>\n",
       "      <th>MSSubClass</th>\n",
       "      <th>LotFrontage</th>\n",
       "      <th>LotArea</th>\n",
       "      <th>OverallQual</th>\n",
       "      <th>OverallCond</th>\n",
       "      <th>YearBuilt</th>\n",
       "      <th>YearRemodAdd</th>\n",
       "      <th>MasVnrArea</th>\n",
       "      <th>BsmtFinSF1</th>\n",
       "      <th>...</th>\n",
       "      <th>WoodDeckSF</th>\n",
       "      <th>OpenPorchSF</th>\n",
       "      <th>EnclosedPorch</th>\n",
       "      <th>3SsnPorch</th>\n",
       "      <th>ScreenPorch</th>\n",
       "      <th>PoolArea</th>\n",
       "      <th>MiscVal</th>\n",
       "      <th>MoSold</th>\n",
       "      <th>YrSold</th>\n",
       "      <th>SalePrice</th>\n",
       "    </tr>\n",
       "  </thead>\n",
       "  <tbody>\n",
       "    <tr>\n",
       "      <th>count</th>\n",
       "      <td>1460.000000</td>\n",
       "      <td>1460.000000</td>\n",
       "      <td>1201.000000</td>\n",
       "      <td>1460.000000</td>\n",
       "      <td>1460.000000</td>\n",
       "      <td>1460.000000</td>\n",
       "      <td>1460.000000</td>\n",
       "      <td>1460.000000</td>\n",
       "      <td>1452.000000</td>\n",
       "      <td>1460.000000</td>\n",
       "      <td>...</td>\n",
       "      <td>1460.000000</td>\n",
       "      <td>1460.000000</td>\n",
       "      <td>1460.000000</td>\n",
       "      <td>1460.000000</td>\n",
       "      <td>1460.000000</td>\n",
       "      <td>1460.000000</td>\n",
       "      <td>1460.000000</td>\n",
       "      <td>1460.000000</td>\n",
       "      <td>1460.000000</td>\n",
       "      <td>1460.000000</td>\n",
       "    </tr>\n",
       "    <tr>\n",
       "      <th>mean</th>\n",
       "      <td>730.500000</td>\n",
       "      <td>56.897260</td>\n",
       "      <td>70.049958</td>\n",
       "      <td>10516.828082</td>\n",
       "      <td>6.099315</td>\n",
       "      <td>5.575342</td>\n",
       "      <td>1971.267808</td>\n",
       "      <td>1984.865753</td>\n",
       "      <td>103.685262</td>\n",
       "      <td>443.639726</td>\n",
       "      <td>...</td>\n",
       "      <td>94.244521</td>\n",
       "      <td>46.660274</td>\n",
       "      <td>21.954110</td>\n",
       "      <td>3.409589</td>\n",
       "      <td>15.060959</td>\n",
       "      <td>2.758904</td>\n",
       "      <td>43.489041</td>\n",
       "      <td>6.321918</td>\n",
       "      <td>2007.815753</td>\n",
       "      <td>180921.195890</td>\n",
       "    </tr>\n",
       "    <tr>\n",
       "      <th>std</th>\n",
       "      <td>421.610009</td>\n",
       "      <td>42.300571</td>\n",
       "      <td>24.284752</td>\n",
       "      <td>9981.264932</td>\n",
       "      <td>1.382997</td>\n",
       "      <td>1.112799</td>\n",
       "      <td>30.202904</td>\n",
       "      <td>20.645407</td>\n",
       "      <td>181.066207</td>\n",
       "      <td>456.098091</td>\n",
       "      <td>...</td>\n",
       "      <td>125.338794</td>\n",
       "      <td>66.256028</td>\n",
       "      <td>61.119149</td>\n",
       "      <td>29.317331</td>\n",
       "      <td>55.757415</td>\n",
       "      <td>40.177307</td>\n",
       "      <td>496.123024</td>\n",
       "      <td>2.703626</td>\n",
       "      <td>1.328095</td>\n",
       "      <td>79442.502883</td>\n",
       "    </tr>\n",
       "    <tr>\n",
       "      <th>min</th>\n",
       "      <td>1.000000</td>\n",
       "      <td>20.000000</td>\n",
       "      <td>21.000000</td>\n",
       "      <td>1300.000000</td>\n",
       "      <td>1.000000</td>\n",
       "      <td>1.000000</td>\n",
       "      <td>1872.000000</td>\n",
       "      <td>1950.000000</td>\n",
       "      <td>0.000000</td>\n",
       "      <td>0.000000</td>\n",
       "      <td>...</td>\n",
       "      <td>0.000000</td>\n",
       "      <td>0.000000</td>\n",
       "      <td>0.000000</td>\n",
       "      <td>0.000000</td>\n",
       "      <td>0.000000</td>\n",
       "      <td>0.000000</td>\n",
       "      <td>0.000000</td>\n",
       "      <td>1.000000</td>\n",
       "      <td>2006.000000</td>\n",
       "      <td>34900.000000</td>\n",
       "    </tr>\n",
       "    <tr>\n",
       "      <th>25%</th>\n",
       "      <td>365.750000</td>\n",
       "      <td>20.000000</td>\n",
       "      <td>59.000000</td>\n",
       "      <td>7553.500000</td>\n",
       "      <td>5.000000</td>\n",
       "      <td>5.000000</td>\n",
       "      <td>1954.000000</td>\n",
       "      <td>1967.000000</td>\n",
       "      <td>0.000000</td>\n",
       "      <td>0.000000</td>\n",
       "      <td>...</td>\n",
       "      <td>0.000000</td>\n",
       "      <td>0.000000</td>\n",
       "      <td>0.000000</td>\n",
       "      <td>0.000000</td>\n",
       "      <td>0.000000</td>\n",
       "      <td>0.000000</td>\n",
       "      <td>0.000000</td>\n",
       "      <td>5.000000</td>\n",
       "      <td>2007.000000</td>\n",
       "      <td>129975.000000</td>\n",
       "    </tr>\n",
       "    <tr>\n",
       "      <th>50%</th>\n",
       "      <td>730.500000</td>\n",
       "      <td>50.000000</td>\n",
       "      <td>69.000000</td>\n",
       "      <td>9478.500000</td>\n",
       "      <td>6.000000</td>\n",
       "      <td>5.000000</td>\n",
       "      <td>1973.000000</td>\n",
       "      <td>1994.000000</td>\n",
       "      <td>0.000000</td>\n",
       "      <td>383.500000</td>\n",
       "      <td>...</td>\n",
       "      <td>0.000000</td>\n",
       "      <td>25.000000</td>\n",
       "      <td>0.000000</td>\n",
       "      <td>0.000000</td>\n",
       "      <td>0.000000</td>\n",
       "      <td>0.000000</td>\n",
       "      <td>0.000000</td>\n",
       "      <td>6.000000</td>\n",
       "      <td>2008.000000</td>\n",
       "      <td>163000.000000</td>\n",
       "    </tr>\n",
       "    <tr>\n",
       "      <th>75%</th>\n",
       "      <td>1095.250000</td>\n",
       "      <td>70.000000</td>\n",
       "      <td>80.000000</td>\n",
       "      <td>11601.500000</td>\n",
       "      <td>7.000000</td>\n",
       "      <td>6.000000</td>\n",
       "      <td>2000.000000</td>\n",
       "      <td>2004.000000</td>\n",
       "      <td>166.000000</td>\n",
       "      <td>712.250000</td>\n",
       "      <td>...</td>\n",
       "      <td>168.000000</td>\n",
       "      <td>68.000000</td>\n",
       "      <td>0.000000</td>\n",
       "      <td>0.000000</td>\n",
       "      <td>0.000000</td>\n",
       "      <td>0.000000</td>\n",
       "      <td>0.000000</td>\n",
       "      <td>8.000000</td>\n",
       "      <td>2009.000000</td>\n",
       "      <td>214000.000000</td>\n",
       "    </tr>\n",
       "    <tr>\n",
       "      <th>max</th>\n",
       "      <td>1460.000000</td>\n",
       "      <td>190.000000</td>\n",
       "      <td>313.000000</td>\n",
       "      <td>215245.000000</td>\n",
       "      <td>10.000000</td>\n",
       "      <td>9.000000</td>\n",
       "      <td>2010.000000</td>\n",
       "      <td>2010.000000</td>\n",
       "      <td>1600.000000</td>\n",
       "      <td>5644.000000</td>\n",
       "      <td>...</td>\n",
       "      <td>857.000000</td>\n",
       "      <td>547.000000</td>\n",
       "      <td>552.000000</td>\n",
       "      <td>508.000000</td>\n",
       "      <td>480.000000</td>\n",
       "      <td>738.000000</td>\n",
       "      <td>15500.000000</td>\n",
       "      <td>12.000000</td>\n",
       "      <td>2010.000000</td>\n",
       "      <td>755000.000000</td>\n",
       "    </tr>\n",
       "  </tbody>\n",
       "</table>\n",
       "<p>8 rows × 38 columns</p>\n",
       "</div>"
      ],
      "text/plain": [
       "                Id   MSSubClass  LotFrontage        LotArea  OverallQual  \\\n",
       "count  1460.000000  1460.000000  1201.000000    1460.000000  1460.000000   \n",
       "mean    730.500000    56.897260    70.049958   10516.828082     6.099315   \n",
       "std     421.610009    42.300571    24.284752    9981.264932     1.382997   \n",
       "min       1.000000    20.000000    21.000000    1300.000000     1.000000   \n",
       "25%     365.750000    20.000000    59.000000    7553.500000     5.000000   \n",
       "50%     730.500000    50.000000    69.000000    9478.500000     6.000000   \n",
       "75%    1095.250000    70.000000    80.000000   11601.500000     7.000000   \n",
       "max    1460.000000   190.000000   313.000000  215245.000000    10.000000   \n",
       "\n",
       "       OverallCond    YearBuilt  YearRemodAdd   MasVnrArea   BsmtFinSF1  ...  \\\n",
       "count  1460.000000  1460.000000   1460.000000  1452.000000  1460.000000  ...   \n",
       "mean      5.575342  1971.267808   1984.865753   103.685262   443.639726  ...   \n",
       "std       1.112799    30.202904     20.645407   181.066207   456.098091  ...   \n",
       "min       1.000000  1872.000000   1950.000000     0.000000     0.000000  ...   \n",
       "25%       5.000000  1954.000000   1967.000000     0.000000     0.000000  ...   \n",
       "50%       5.000000  1973.000000   1994.000000     0.000000   383.500000  ...   \n",
       "75%       6.000000  2000.000000   2004.000000   166.000000   712.250000  ...   \n",
       "max       9.000000  2010.000000   2010.000000  1600.000000  5644.000000  ...   \n",
       "\n",
       "        WoodDeckSF  OpenPorchSF  EnclosedPorch    3SsnPorch  ScreenPorch  \\\n",
       "count  1460.000000  1460.000000    1460.000000  1460.000000  1460.000000   \n",
       "mean     94.244521    46.660274      21.954110     3.409589    15.060959   \n",
       "std     125.338794    66.256028      61.119149    29.317331    55.757415   \n",
       "min       0.000000     0.000000       0.000000     0.000000     0.000000   \n",
       "25%       0.000000     0.000000       0.000000     0.000000     0.000000   \n",
       "50%       0.000000    25.000000       0.000000     0.000000     0.000000   \n",
       "75%     168.000000    68.000000       0.000000     0.000000     0.000000   \n",
       "max     857.000000   547.000000     552.000000   508.000000   480.000000   \n",
       "\n",
       "          PoolArea       MiscVal       MoSold       YrSold      SalePrice  \n",
       "count  1460.000000   1460.000000  1460.000000  1460.000000    1460.000000  \n",
       "mean      2.758904     43.489041     6.321918  2007.815753  180921.195890  \n",
       "std      40.177307    496.123024     2.703626     1.328095   79442.502883  \n",
       "min       0.000000      0.000000     1.000000  2006.000000   34900.000000  \n",
       "25%       0.000000      0.000000     5.000000  2007.000000  129975.000000  \n",
       "50%       0.000000      0.000000     6.000000  2008.000000  163000.000000  \n",
       "75%       0.000000      0.000000     8.000000  2009.000000  214000.000000  \n",
       "max     738.000000  15500.000000    12.000000  2010.000000  755000.000000  \n",
       "\n",
       "[8 rows x 38 columns]"
      ]
     },
     "execution_count": 828,
     "metadata": {},
     "output_type": "execute_result"
    }
   ],
   "source": [
    "House.describe()"
   ]
  },
  {
   "cell_type": "markdown",
   "metadata": {},
   "source": [
    "## Step 2: Data Cleaning"
   ]
  },
  {
   "cell_type": "markdown",
   "metadata": {},
   "source": [
    "##### A.  Replace `NA` with `None` in columns (where  `NA`  does not mean null or blank )"
   ]
  },
  {
   "cell_type": "code",
   "execution_count": 829,
   "metadata": {},
   "outputs": [],
   "source": [
    "# Create A list of categorical column where `NA` does not mean null or blank \n",
    "Z=['Alley','MasVnrType','BsmtQual','BsmtCond','BsmtExposure','BsmtFinType1','BsmtFinType2','FireplaceQu','GarageType','GarageFinish','GarageQual','GarageCond','PoolQC','Fence','MiscFeature']"
   ]
  },
  {
   "cell_type": "code",
   "execution_count": 830,
   "metadata": {},
   "outputs": [],
   "source": [
    "#Find length of list\n",
    "n=len(Z)\n",
    "\n",
    "#Replace `NA` with `None`\n",
    "for i in range(0,n):\n",
    "    House[Z[i]]=House[Z[i]].fillna('None')"
   ]
  },
  {
   "cell_type": "markdown",
   "metadata": {},
   "source": [
    "##### B. Check Column wise null value "
   ]
  },
  {
   "cell_type": "code",
   "execution_count": 831,
   "metadata": {},
   "outputs": [
    {
     "data": {
      "text/plain": [
       "LotFrontage    259\n",
       "GarageYrBlt     81\n",
       "MasVnrArea       8\n",
       "Electrical       1\n",
       "SalePrice        0\n",
       "ExterCond        0\n",
       "RoofStyle        0\n",
       "RoofMatl         0\n",
       "Exterior1st      0\n",
       "Exterior2nd      0\n",
       "dtype: int64"
      ]
     },
     "execution_count": 831,
     "metadata": {},
     "output_type": "execute_result"
    }
   ],
   "source": [
    "# Find column wise null value and then sort to descending\n",
    "House.isnull().sum(axis=0).sort_values(ascending=False).head(10)"
   ]
  },
  {
   "cell_type": "markdown",
   "metadata": {},
   "source": [
    "##### C. Impute Numeric Column with mean value"
   ]
  },
  {
   "cell_type": "code",
   "execution_count": 832,
   "metadata": {},
   "outputs": [],
   "source": [
    "House.fillna(House.mean(),inplace=True)"
   ]
  },
  {
   "cell_type": "markdown",
   "metadata": {},
   "source": [
    "##### D. Drop Unrequired Columns"
   ]
  },
  {
   "cell_type": "code",
   "execution_count": 833,
   "metadata": {},
   "outputs": [],
   "source": [
    "House=House.drop(columns=['Id'], axis = 1)"
   ]
  },
  {
   "cell_type": "markdown",
   "metadata": {},
   "source": [
    "##### E. Check Row wise null value"
   ]
  },
  {
   "cell_type": "code",
   "execution_count": 834,
   "metadata": {},
   "outputs": [
    {
     "data": {
      "text/plain": [
       "1379    1\n",
       "1459    0\n",
       "480     0\n",
       "481     0\n",
       "482     0\n",
       "483     0\n",
       "484     0\n",
       "485     0\n",
       "486     0\n",
       "487     0\n",
       "488     0\n",
       "489     0\n",
       "478     0\n",
       "490     0\n",
       "491     0\n",
       "492     0\n",
       "493     0\n",
       "494     0\n",
       "495     0\n",
       "496     0\n",
       "dtype: int64"
      ]
     },
     "execution_count": 834,
     "metadata": {},
     "output_type": "execute_result"
    }
   ],
   "source": [
    "# Find row wise null value\n",
    "House.isnull().sum(axis=1).sort_values(ascending=False).head(20)"
   ]
  },
  {
   "cell_type": "markdown",
   "metadata": {},
   "source": [
    "#####  F. Outlier Treatment"
   ]
  },
  {
   "cell_type": "code",
   "execution_count": 835,
   "metadata": {},
   "outputs": [],
   "source": [
    "num_columns=House.select_dtypes(exclude='object').columns\n",
    "n=len(num_columns)"
   ]
  },
  {
   "cell_type": "code",
   "execution_count": 836,
   "metadata": {},
   "outputs": [
    {
     "name": "stdout",
     "output_type": "stream",
     "text": [
      "Shape of DataFrame Before Outlier Treatment :-  (1460, 80)\n",
      "Shape of DataFrame After Outlier Treatment :-  (1389, 80)\n"
     ]
    }
   ],
   "source": [
    "print('Shape of DataFrame Before Outlier Treatment :- ',House.shape)\n",
    "for i in range(0,n): \n",
    "    Q1 = House[num_columns[i]].quantile(0.02)\n",
    "    Q3 = House[num_columns[i]].quantile(0.98)\n",
    "    IQR = Q3 - Q1\n",
    "    House = House[(House[num_columns[i]] >= Q1 - 1.5*IQR) & (House[num_columns[i]] <= Q3 + 1.5*IQR)]\n",
    "print('Shape of DataFrame After Outlier Treatment :- ',House.shape)"
   ]
  },
  {
   "cell_type": "markdown",
   "metadata": {},
   "source": [
    "Number of Records left after data cleaning is 1389 which is 95 % of initial data (1460 records)"
   ]
  },
  {
   "cell_type": "markdown",
   "metadata": {},
   "source": [
    "## Step 2: Data Preparation"
   ]
  },
  {
   "cell_type": "markdown",
   "metadata": {},
   "source": [
    "##### A. Create New Columns"
   ]
  },
  {
   "cell_type": "code",
   "execution_count": 837,
   "metadata": {},
   "outputs": [],
   "source": [
    "#Create New Columns `Remodeling Done` from 'YearBuilt' & 'YearRemodAdd' \n",
    "\n",
    "House['Remodeling Done']=np.where(House['YearBuilt']!=House['YearRemodAdd'], 'Yes', 'no')"
   ]
  },
  {
   "cell_type": "code",
   "execution_count": 838,
   "metadata": {},
   "outputs": [],
   "source": [
    "# Create variable Year having Curreny Year value\n",
    "Year = pd.datetime.now().year\n",
    "\n",
    "#Create New Columns `House age` which denotes how old is house\n",
    "House['House Age']=Year - House['YearBuilt']\n",
    "\n",
    "#Create New Columns `Garage age` which denotes how old is Garage\n",
    "House['Garage Age']=Year - House['GarageYrBlt']\n",
    "\n",
    "#Create New Columns `Last Sold` which denotes how many years before the house was sold\n",
    "House['Last Sold']=Year - House['YrSold'] "
   ]
  },
  {
   "cell_type": "code",
   "execution_count": 839,
   "metadata": {},
   "outputs": [],
   "source": [
    "#After creating new columns we can Drop intial columns(the columns from which new columns are created)\n",
    "House.drop(['YearBuilt','YearRemodAdd','GarageYrBlt','YrSold'], axis = 1, inplace = True)"
   ]
  },
  {
   "cell_type": "markdown",
   "metadata": {},
   "source": [
    "##### B. Create Dummy Variables"
   ]
  },
  {
   "cell_type": "code",
   "execution_count": 840,
   "metadata": {},
   "outputs": [],
   "source": [
    "# Create Columns having dummy variables\n",
    "Categorical_variable=House.select_dtypes(include='object').columns\n",
    "Dummy_Columns = pd.get_dummies(House[Categorical_variable], drop_first = True)"
   ]
  },
  {
   "cell_type": "code",
   "execution_count": 841,
   "metadata": {},
   "outputs": [],
   "source": [
    "# Add the dummy Columns to the original House dataframe\n",
    "House = pd.concat([House, Dummy_Columns], axis = 1)"
   ]
  },
  {
   "cell_type": "code",
   "execution_count": 842,
   "metadata": {},
   "outputs": [],
   "source": [
    "# Drop Categorical as we have created the dummies for it\n",
    "House.drop(Categorical_variable, axis = 1, inplace = True)"
   ]
  },
  {
   "cell_type": "markdown",
   "metadata": {},
   "source": [
    "##### C. Check the House dataframe "
   ]
  },
  {
   "cell_type": "code",
   "execution_count": 843,
   "metadata": {},
   "outputs": [
    {
     "name": "stdout",
     "output_type": "stream",
     "text": [
      "Shape of Datafrane is  (1389, 251)\n"
     ]
    },
    {
     "data": {
      "text/html": [
       "<div>\n",
       "<style scoped>\n",
       "    .dataframe tbody tr th:only-of-type {\n",
       "        vertical-align: middle;\n",
       "    }\n",
       "\n",
       "    .dataframe tbody tr th {\n",
       "        vertical-align: top;\n",
       "    }\n",
       "\n",
       "    .dataframe thead th {\n",
       "        text-align: right;\n",
       "    }\n",
       "</style>\n",
       "<table border=\"1\" class=\"dataframe\">\n",
       "  <thead>\n",
       "    <tr style=\"text-align: right;\">\n",
       "      <th></th>\n",
       "      <th>MSSubClass</th>\n",
       "      <th>LotFrontage</th>\n",
       "      <th>LotArea</th>\n",
       "      <th>OverallQual</th>\n",
       "      <th>OverallCond</th>\n",
       "      <th>MasVnrArea</th>\n",
       "      <th>BsmtFinSF1</th>\n",
       "      <th>BsmtFinSF2</th>\n",
       "      <th>BsmtUnfSF</th>\n",
       "      <th>TotalBsmtSF</th>\n",
       "      <th>...</th>\n",
       "      <th>SaleType_ConLw</th>\n",
       "      <th>SaleType_New</th>\n",
       "      <th>SaleType_Oth</th>\n",
       "      <th>SaleType_WD</th>\n",
       "      <th>SaleCondition_AdjLand</th>\n",
       "      <th>SaleCondition_Alloca</th>\n",
       "      <th>SaleCondition_Family</th>\n",
       "      <th>SaleCondition_Normal</th>\n",
       "      <th>SaleCondition_Partial</th>\n",
       "      <th>Remodeling Done_no</th>\n",
       "    </tr>\n",
       "  </thead>\n",
       "  <tbody>\n",
       "    <tr>\n",
       "      <th>0</th>\n",
       "      <td>60</td>\n",
       "      <td>65.0</td>\n",
       "      <td>8450</td>\n",
       "      <td>7</td>\n",
       "      <td>5</td>\n",
       "      <td>196.0</td>\n",
       "      <td>706</td>\n",
       "      <td>0</td>\n",
       "      <td>150</td>\n",
       "      <td>856</td>\n",
       "      <td>...</td>\n",
       "      <td>0</td>\n",
       "      <td>0</td>\n",
       "      <td>0</td>\n",
       "      <td>1</td>\n",
       "      <td>0</td>\n",
       "      <td>0</td>\n",
       "      <td>0</td>\n",
       "      <td>1</td>\n",
       "      <td>0</td>\n",
       "      <td>1</td>\n",
       "    </tr>\n",
       "    <tr>\n",
       "      <th>1</th>\n",
       "      <td>20</td>\n",
       "      <td>80.0</td>\n",
       "      <td>9600</td>\n",
       "      <td>6</td>\n",
       "      <td>8</td>\n",
       "      <td>0.0</td>\n",
       "      <td>978</td>\n",
       "      <td>0</td>\n",
       "      <td>284</td>\n",
       "      <td>1262</td>\n",
       "      <td>...</td>\n",
       "      <td>0</td>\n",
       "      <td>0</td>\n",
       "      <td>0</td>\n",
       "      <td>1</td>\n",
       "      <td>0</td>\n",
       "      <td>0</td>\n",
       "      <td>0</td>\n",
       "      <td>1</td>\n",
       "      <td>0</td>\n",
       "      <td>1</td>\n",
       "    </tr>\n",
       "    <tr>\n",
       "      <th>2</th>\n",
       "      <td>60</td>\n",
       "      <td>68.0</td>\n",
       "      <td>11250</td>\n",
       "      <td>7</td>\n",
       "      <td>5</td>\n",
       "      <td>162.0</td>\n",
       "      <td>486</td>\n",
       "      <td>0</td>\n",
       "      <td>434</td>\n",
       "      <td>920</td>\n",
       "      <td>...</td>\n",
       "      <td>0</td>\n",
       "      <td>0</td>\n",
       "      <td>0</td>\n",
       "      <td>1</td>\n",
       "      <td>0</td>\n",
       "      <td>0</td>\n",
       "      <td>0</td>\n",
       "      <td>1</td>\n",
       "      <td>0</td>\n",
       "      <td>0</td>\n",
       "    </tr>\n",
       "    <tr>\n",
       "      <th>3</th>\n",
       "      <td>70</td>\n",
       "      <td>60.0</td>\n",
       "      <td>9550</td>\n",
       "      <td>7</td>\n",
       "      <td>5</td>\n",
       "      <td>0.0</td>\n",
       "      <td>216</td>\n",
       "      <td>0</td>\n",
       "      <td>540</td>\n",
       "      <td>756</td>\n",
       "      <td>...</td>\n",
       "      <td>0</td>\n",
       "      <td>0</td>\n",
       "      <td>0</td>\n",
       "      <td>1</td>\n",
       "      <td>0</td>\n",
       "      <td>0</td>\n",
       "      <td>0</td>\n",
       "      <td>0</td>\n",
       "      <td>0</td>\n",
       "      <td>0</td>\n",
       "    </tr>\n",
       "    <tr>\n",
       "      <th>4</th>\n",
       "      <td>60</td>\n",
       "      <td>84.0</td>\n",
       "      <td>14260</td>\n",
       "      <td>8</td>\n",
       "      <td>5</td>\n",
       "      <td>350.0</td>\n",
       "      <td>655</td>\n",
       "      <td>0</td>\n",
       "      <td>490</td>\n",
       "      <td>1145</td>\n",
       "      <td>...</td>\n",
       "      <td>0</td>\n",
       "      <td>0</td>\n",
       "      <td>0</td>\n",
       "      <td>1</td>\n",
       "      <td>0</td>\n",
       "      <td>0</td>\n",
       "      <td>0</td>\n",
       "      <td>1</td>\n",
       "      <td>0</td>\n",
       "      <td>1</td>\n",
       "    </tr>\n",
       "  </tbody>\n",
       "</table>\n",
       "<p>5 rows × 251 columns</p>\n",
       "</div>"
      ],
      "text/plain": [
       "   MSSubClass  LotFrontage  LotArea  OverallQual  OverallCond  MasVnrArea  \\\n",
       "0          60         65.0     8450            7            5       196.0   \n",
       "1          20         80.0     9600            6            8         0.0   \n",
       "2          60         68.0    11250            7            5       162.0   \n",
       "3          70         60.0     9550            7            5         0.0   \n",
       "4          60         84.0    14260            8            5       350.0   \n",
       "\n",
       "   BsmtFinSF1  BsmtFinSF2  BsmtUnfSF  TotalBsmtSF  ...  SaleType_ConLw  \\\n",
       "0         706           0        150          856  ...               0   \n",
       "1         978           0        284         1262  ...               0   \n",
       "2         486           0        434          920  ...               0   \n",
       "3         216           0        540          756  ...               0   \n",
       "4         655           0        490         1145  ...               0   \n",
       "\n",
       "   SaleType_New  SaleType_Oth  SaleType_WD  SaleCondition_AdjLand  \\\n",
       "0             0             0            1                      0   \n",
       "1             0             0            1                      0   \n",
       "2             0             0            1                      0   \n",
       "3             0             0            1                      0   \n",
       "4             0             0            1                      0   \n",
       "\n",
       "   SaleCondition_Alloca  SaleCondition_Family  SaleCondition_Normal  \\\n",
       "0                     0                     0                     1   \n",
       "1                     0                     0                     1   \n",
       "2                     0                     0                     1   \n",
       "3                     0                     0                     0   \n",
       "4                     0                     0                     1   \n",
       "\n",
       "   SaleCondition_Partial  Remodeling Done_no  \n",
       "0                      0                   1  \n",
       "1                      0                   1  \n",
       "2                      0                   0  \n",
       "3                      0                   0  \n",
       "4                      0                   1  \n",
       "\n",
       "[5 rows x 251 columns]"
      ]
     },
     "execution_count": 843,
     "metadata": {},
     "output_type": "execute_result"
    }
   ],
   "source": [
    "print('Shape of Datafrane is ',House.shape)\n",
    "House.head()"
   ]
  },
  {
   "cell_type": "markdown",
   "metadata": {},
   "source": [
    "##  Step 3. Rescaling the Features using MinMax scaling"
   ]
  },
  {
   "cell_type": "markdown",
   "metadata": {},
   "source": [
    "##### Dividing Train Data into X and Y sets for the model building"
   ]
  },
  {
   "cell_type": "code",
   "execution_count": 844,
   "metadata": {},
   "outputs": [],
   "source": [
    "# Divide data into x and y\n",
    "Y=House['SalePrice']\n",
    "X=House.drop(columns=['SalePrice'],axis=1)"
   ]
  },
  {
   "cell_type": "code",
   "execution_count": 845,
   "metadata": {},
   "outputs": [],
   "source": [
    "# import scale\n",
    "from sklearn.preprocessing import scale"
   ]
  },
  {
   "cell_type": "code",
   "execution_count": 846,
   "metadata": {},
   "outputs": [],
   "source": [
    "# storing column names in cols, since column names are (annoyingly) lost after \n",
    "# scaling (the df is converted to a numpy array)\n",
    "cols = X.columns\n",
    "X = pd.DataFrame(scale(X))\n",
    "X.columns = cols"
   ]
  },
  {
   "cell_type": "markdown",
   "metadata": {},
   "source": [
    "##### Check if Y variable is normally distributed(not skewed)"
   ]
  },
  {
   "cell_type": "code",
   "execution_count": 847,
   "metadata": {},
   "outputs": [
    {
     "data": {
      "text/plain": [
       "Text(0.5, 0, 'Value of Y')"
      ]
     },
     "execution_count": 847,
     "metadata": {},
     "output_type": "execute_result"
    },
    {
     "data": {
      "image/png": "[encoded data removed]",
      "text/plain": [
       "<Figure size 432x288 with 1 Axes>"
      ]
     },
     "metadata": {
      "needs_background": "light"
     },
     "output_type": "display_data"
    }
   ],
   "source": [
    "fig = plt.figure()\n",
    "sns.distplot((Y), bins = 12)\n",
    "fig.suptitle('Distribution of Target Variable(SalePrice)', fontsize = 20)                  # Plot heading \n",
    "plt.xlabel('Value of Y', fontsize = 18)                         # X-label"
   ]
  },
  {
   "cell_type": "markdown",
   "metadata": {},
   "source": [
    "From the above graph it can be seen that Y variable is not nonrmally disttibuted hence transgormaing Y variable is required"
   ]
  },
  {
   "cell_type": "code",
   "execution_count": 848,
   "metadata": {},
   "outputs": [
    {
     "data": {
      "text/plain": [
       "Text(0.5, 0, 'Value of Y')"
      ]
     },
     "execution_count": 848,
     "metadata": {},
     "output_type": "execute_result"
    },
    {
     "data": {
      "image/png": "[encoded data removed]",
      "text/plain": [
       "<Figure size 432x288 with 1 Axes>"
      ]
     },
     "metadata": {
      "needs_background": "light"
     },
     "output_type": "display_data"
    }
   ],
   "source": [
    "#  logarithmic Transformation  of Y variable\n",
    "Y=np.log(Y)\n",
    "fig = plt.figure()\n",
    "sns.distplot((Y), bins = 12)\n",
    "fig.suptitle('Distribution of Target Variable(SalePrice)', fontsize = 20)                  # Plot heading \n",
    "plt.xlabel('Value of Y', fontsize = 18)                         # X-label"
   ]
  },
  {
   "cell_type": "markdown",
   "metadata": {},
   "source": [
    "## Step 4. Splitting the Data into Training and Testing Sets"
   ]
  },
  {
   "cell_type": "code",
   "execution_count": 849,
   "metadata": {},
   "outputs": [],
   "source": [
    "# split into train and test\n",
    "from sklearn.model_selection  import train_test_split"
   ]
  },
  {
   "cell_type": "code",
   "execution_count": 850,
   "metadata": {},
   "outputs": [],
   "source": [
    "# split into train and test\n",
    "X_train, X_test, Y_train, Y_test  =train_test_split(X,Y, train_size=0.7,test_size = 0.3, random_state=100)"
   ]
  },
  {
   "cell_type": "markdown",
   "metadata": {},
   "source": [
    "## Step 5. Model Building"
   ]
  },
  {
   "cell_type": "markdown",
   "metadata": {},
   "source": [
    "##### A. Using Recursive feature elimination"
   ]
  },
  {
   "cell_type": "code",
   "execution_count": 851,
   "metadata": {},
   "outputs": [],
   "source": [
    "# Importing RFE and LinearRegression\n",
    "from sklearn.feature_selection import RFE\n",
    "from sklearn.linear_model import LinearRegression"
   ]
  },
  {
   "cell_type": "code",
   "execution_count": 852,
   "metadata": {},
   "outputs": [
    {
     "name": "stdout",
     "output_type": "stream",
     "text": [
      "Index(['MSSubClass', 'LotFrontage', 'LotArea', 'OverallQual', 'OverallCond',\n",
      "       'MasVnrArea', 'BsmtFinSF1', 'BsmtFinSF2', 'BsmtUnfSF', 'TotalBsmtSF',\n",
      "       ...\n",
      "       'SaleType_ConLw', 'SaleType_New', 'SaleType_Oth', 'SaleType_WD',\n",
      "       'SaleCondition_AdjLand', 'SaleCondition_Alloca', 'SaleCondition_Family',\n",
      "       'SaleCondition_Normal', 'SaleCondition_Partial', 'Remodeling Done_no'],\n",
      "      dtype='object', length=250)\n",
      "Index(['MSSubClass', 'LotFrontage', 'LotArea', 'OverallQual', 'OverallCond',\n",
      "       'MasVnrArea', 'BsmtFinSF1', 'BsmtFinSF2', 'BsmtUnfSF', 'TotalBsmtSF',\n",
      "       ...\n",
      "       'SaleType_ConLw', 'SaleType_New', 'SaleType_Oth', 'SaleType_WD',\n",
      "       'SaleCondition_AdjLand', 'SaleCondition_Alloca', 'SaleCondition_Family',\n",
      "       'SaleCondition_Normal', 'SaleCondition_Partial', 'Remodeling Done_no'],\n",
      "      dtype='object', length=251)\n"
     ]
    }
   ],
   "source": [
    "# Running RFE with the output number of the variable equal to 50\n",
    "lm = LinearRegression()\n",
    "lm.fit(X_train, Y_train)\n",
    "\n",
    "rfe = RFE(lm, 50)\n",
    "rfe = rfe.fit(X_train, Y_train)\n",
    "print( X_train.columns)\n",
    "print( House.columns)"
   ]
  },
  {
   "cell_type": "code",
   "execution_count": 853,
   "metadata": {},
   "outputs": [
    {
     "data": {
      "text/plain": [
       "Index(['LotArea', 'OverallQual', 'OverallCond', 'BsmtFinSF1', 'BsmtFinSF2',\n",
       "       'BsmtUnfSF', 'TotalBsmtSF', '1stFlrSF', '2ndFlrSF', 'GrLivArea',\n",
       "       'Fireplaces', 'GarageArea', 'House Age', 'MSZoning_FV', 'MSZoning_RH',\n",
       "       'MSZoning_RL', 'MSZoning_RM', 'Condition2_PosN', 'Exterior1st_BrkComm',\n",
       "       'Exterior1st_CBlock', 'Exterior1st_CemntBd', 'Exterior2nd_CBlock',\n",
       "       'Exterior2nd_CmentBd', 'MasVnrType_BrkFace', 'MasVnrType_None',\n",
       "       'MasVnrType_Stone', 'ExterCond_Gd', 'ExterCond_TA', 'Foundation_PConc',\n",
       "       'BsmtQual_None', 'BsmtCond_None', 'BsmtFinType1_None',\n",
       "       'BsmtFinType2_None', 'KitchenQual_Fa', 'KitchenQual_Gd',\n",
       "       'KitchenQual_TA', 'GarageType_None', 'GarageFinish_None',\n",
       "       'GarageQual_Fa', 'GarageQual_Gd', 'GarageQual_None', 'GarageQual_Po',\n",
       "       'GarageQual_TA', 'GarageCond_Fa', 'GarageCond_Gd', 'GarageCond_None',\n",
       "       'GarageCond_Po', 'GarageCond_TA', 'SaleType_New',\n",
       "       'SaleCondition_Partial'],\n",
       "      dtype='object')"
      ]
     },
     "execution_count": 853,
     "metadata": {},
     "output_type": "execute_result"
    }
   ],
   "source": [
    "col = X_train.columns[rfe.support_]\n",
    "col"
   ]
  },
  {
   "cell_type": "markdown",
   "metadata": {},
   "source": [
    "##### B. Building model using statsmodel, for the detailed statistics"
   ]
  },
  {
   "cell_type": "code",
   "execution_count": 854,
   "metadata": {},
   "outputs": [],
   "source": [
    "import statsmodels.api as sm  "
   ]
  },
  {
   "cell_type": "markdown",
   "metadata": {},
   "source": [
    "###### i. Create model with RFE selected variables"
   ]
  },
  {
   "cell_type": "code",
   "execution_count": 855,
   "metadata": {},
   "outputs": [
    {
     "name": "stdout",
     "output_type": "stream",
     "text": [
      "                            OLS Regression Results                            \n",
      "==============================================================================\n",
      "Dep. Variable:                      y   R-squared:                       0.917\n",
      "Model:                            OLS   Adj. R-squared:                  0.913\n",
      "Method:                 Least Squares   F-statistic:                     250.6\n",
      "Date:                Mon, 08 Jul 2019   Prob (F-statistic):               0.00\n",
      "Time:                        21:43:27   Log-Likelihood:                 734.03\n",
      "No. Observations:                 972   AIC:                            -1384.\n",
      "Df Residuals:                     930   BIC:                            -1179.\n",
      "Df Model:                          41                                         \n",
      "Covariance Type:            nonrobust                                         \n",
      "=========================================================================================\n",
      "                            coef    std err          t      P>|t|      [0.025      0.975]\n",
      "-----------------------------------------------------------------------------------------\n",
      "const                    12.0172      0.004   3201.618      0.000      12.010      12.025\n",
      "LotArea                   0.0270      0.005      5.570      0.000       0.017       0.037\n",
      "OverallQual               0.0927      0.007     13.374      0.000       0.079       0.106\n",
      "OverallCond               0.0617      0.005     13.212      0.000       0.052       0.071\n",
      "BsmtFinSF1                0.0472      0.004     12.177      0.000       0.040       0.055\n",
      "BsmtFinSF2                0.0090      0.004      2.401      0.017       0.002       0.016\n",
      "BsmtUnfSF                 0.0036      0.004      0.938      0.348      -0.004       0.011\n",
      "TotalBsmtSF               0.0564      0.007      8.380      0.000       0.043       0.070\n",
      "1stFlrSF                  0.0282      0.006      4.386      0.000       0.016       0.041\n",
      "2ndFlrSF                  0.0531      0.004     14.099      0.000       0.046       0.060\n",
      "GrLivArea                 0.0670      0.004     18.038      0.000       0.060       0.074\n",
      "Fireplaces                0.0281      0.005      6.205      0.000       0.019       0.037\n",
      "GarageArea                0.0328      0.006      5.595      0.000       0.021       0.044\n",
      "House Age                -0.0654      0.007     -9.236      0.000      -0.079      -0.052\n",
      "MSZoning_FV               0.0762      0.010      7.445      0.000       0.056       0.096\n",
      "MSZoning_RH               0.0332      0.006      5.403      0.000       0.021       0.045\n",
      "MSZoning_RL               0.1396      0.019      7.479      0.000       0.103       0.176\n",
      "MSZoning_RM               0.0944      0.016      5.751      0.000       0.062       0.127\n",
      "Condition2_PosN          -0.0383      0.003    -11.513      0.000      -0.045      -0.032\n",
      "Exterior1st_BrkComm      -0.0260      0.005     -5.705      0.000      -0.035      -0.017\n",
      "Exterior1st_CBlock       -0.0018      0.002     -1.122      0.262      -0.005       0.001\n",
      "Exterior1st_CemntBd      -0.0250      0.017     -1.447      0.148      -0.059       0.009\n",
      "Exterior2nd_CBlock       -0.0018      0.002     -1.122      0.262      -0.005       0.001\n",
      "Exterior2nd_CmentBd       0.0217      0.017      1.265      0.206      -0.012       0.055\n",
      "MasVnrType_BrkFace        0.0450      0.016      2.774      0.006       0.013       0.077\n",
      "MasVnrType_None           0.0446      0.017      2.627      0.009       0.011       0.078\n",
      "MasVnrType_Stone          0.0271      0.011      2.543      0.011       0.006       0.048\n",
      "ExterCond_Gd             -0.0257      0.009     -2.828      0.005      -0.044      -0.008\n",
      "ExterCond_TA             -0.0252      0.009     -2.786      0.005      -0.043      -0.007\n",
      "Foundation_PConc          0.0341      0.006      5.944      0.000       0.023       0.045\n",
      "BsmtQual_None             0.0112      0.007      1.622      0.105      -0.002       0.025\n",
      "BsmtCond_None             0.0112      0.007      1.622      0.105      -0.002       0.025\n",
      "BsmtFinType1_None         0.0112      0.007      1.622      0.105      -0.002       0.025\n",
      "BsmtFinType2_None        -0.0298      0.019     -1.547      0.122      -0.068       0.008\n",
      "KitchenQual_Fa           -0.0247      0.005     -4.873      0.000      -0.035      -0.015\n",
      "KitchenQual_Gd           -0.0324      0.009     -3.682      0.000      -0.050      -0.015\n",
      "KitchenQual_TA           -0.0489      0.010     -4.774      0.000      -0.069      -0.029\n",
      "GarageType_None          -0.0064      0.005     -1.334      0.183      -0.016       0.003\n",
      "GarageFinish_None        -0.0064      0.005     -1.334      0.183      -0.016       0.003\n",
      "GarageQual_Fa            -0.0064      0.008     -0.814      0.416      -0.022       0.009\n",
      "GarageQual_Gd            -0.0015      0.005     -0.295      0.768      -0.012       0.009\n",
      "GarageQual_None          -0.0064      0.005     -1.334      0.183      -0.016       0.003\n",
      "GarageQual_Po            -0.0069      0.006     -1.066      0.287      -0.020       0.006\n",
      "GarageQual_TA            -0.0025      0.012     -0.213      0.831      -0.025       0.020\n",
      "GarageCond_Fa            -0.0047      0.008     -0.605      0.545      -0.020       0.011\n",
      "GarageCond_Gd            -0.0011      0.006     -0.202      0.840      -0.012       0.010\n",
      "GarageCond_None          -0.0064      0.005     -1.334      0.183      -0.016       0.003\n",
      "GarageCond_Po            -0.0005      0.005     -0.091      0.928      -0.011       0.010\n",
      "GarageCond_TA            -0.0054      0.013     -0.421      0.674      -0.030       0.020\n",
      "SaleType_New              0.1650      0.033      4.935      0.000       0.099       0.231\n",
      "SaleCondition_Partial    -0.1467      0.034     -4.362      0.000      -0.213      -0.081\n",
      "==============================================================================\n",
      "Omnibus:                      176.551   Durbin-Watson:                   2.019\n",
      "Prob(Omnibus):                  0.000   Jarque-Bera (JB):             2108.522\n",
      "Skew:                          -0.435   Prob(JB):                         0.00\n",
      "Kurtosis:                      10.163   Cond. No.                     2.76e+16\n",
      "==============================================================================\n",
      "\n",
      "Warnings:\n",
      "[1] Standard Errors assume that the covariance matrix of the errors is correctly specified.\n",
      "[2] The smallest eigenvalue is 1.04e-29. This might indicate that there are\n",
      "strong multicollinearity problems or that the design matrix is singular.\n"
     ]
    }
   ],
   "source": [
    "# Creating dataframe with RFE selected variables\n",
    "X_train_rfe = X_train[col]\n",
    "\n",
    "# Adding a constant variable \n",
    "X_train_rfe = sm.add_constant(X_train_rfe)\n",
    "\n",
    "# Running the linear model\n",
    "lm = sm.OLS(list(Y_train),X_train_rfe).fit()  \n",
    "\n",
    "# Print summary of our linear model\n",
    "print(lm.summary())"
   ]
  },
  {
   "cell_type": "code",
   "execution_count": 856,
   "metadata": {},
   "outputs": [
    {
     "data": {
      "text/html": [
       "<div>\n",
       "<style scoped>\n",
       "    .dataframe tbody tr th:only-of-type {\n",
       "        vertical-align: middle;\n",
       "    }\n",
       "\n",
       "    .dataframe tbody tr th {\n",
       "        vertical-align: top;\n",
       "    }\n",
       "\n",
       "    .dataframe thead th {\n",
       "        text-align: right;\n",
       "    }\n",
       "</style>\n",
       "<table border=\"1\" class=\"dataframe\">\n",
       "  <thead>\n",
       "    <tr style=\"text-align: right;\">\n",
       "      <th></th>\n",
       "      <th>const</th>\n",
       "      <th>LotArea</th>\n",
       "      <th>OverallQual</th>\n",
       "      <th>OverallCond</th>\n",
       "      <th>BsmtFinSF1</th>\n",
       "      <th>BsmtFinSF2</th>\n",
       "      <th>BsmtUnfSF</th>\n",
       "      <th>TotalBsmtSF</th>\n",
       "      <th>1stFlrSF</th>\n",
       "      <th>2ndFlrSF</th>\n",
       "      <th>...</th>\n",
       "      <th>GarageQual_None</th>\n",
       "      <th>GarageQual_Po</th>\n",
       "      <th>GarageQual_TA</th>\n",
       "      <th>GarageCond_Fa</th>\n",
       "      <th>GarageCond_Gd</th>\n",
       "      <th>GarageCond_None</th>\n",
       "      <th>GarageCond_Po</th>\n",
       "      <th>GarageCond_TA</th>\n",
       "      <th>SaleType_New</th>\n",
       "      <th>SaleCondition_Partial</th>\n",
       "    </tr>\n",
       "  </thead>\n",
       "  <tbody>\n",
       "    <tr>\n",
       "      <th>1223</th>\n",
       "      <td>1.0</td>\n",
       "      <td>-0.756987</td>\n",
       "      <td>-0.068118</td>\n",
       "      <td>0.401709</td>\n",
       "      <td>-1.008440</td>\n",
       "      <td>-0.286498</td>\n",
       "      <td>0.473370</td>\n",
       "      <td>-0.655229</td>\n",
       "      <td>-0.887033</td>\n",
       "      <td>0.565485</td>\n",
       "      <td>...</td>\n",
       "      <td>-0.233816</td>\n",
       "      <td>-0.046524</td>\n",
       "      <td>0.329453</td>\n",
       "      <td>-0.158405</td>\n",
       "      <td>-0.07117</td>\n",
       "      <td>-0.233816</td>\n",
       "      <td>-0.07117</td>\n",
       "      <td>0.310307</td>\n",
       "      <td>-0.303284</td>\n",
       "      <td>-0.30751</td>\n",
       "    </tr>\n",
       "    <tr>\n",
       "      <th>328</th>\n",
       "      <td>1.0</td>\n",
       "      <td>-0.165861</td>\n",
       "      <td>-0.790380</td>\n",
       "      <td>0.401709</td>\n",
       "      <td>-0.464684</td>\n",
       "      <td>2.064661</td>\n",
       "      <td>-1.279359</td>\n",
       "      <td>-1.048377</td>\n",
       "      <td>-1.447107</td>\n",
       "      <td>0.352351</td>\n",
       "      <td>...</td>\n",
       "      <td>-0.233816</td>\n",
       "      <td>-0.046524</td>\n",
       "      <td>0.329453</td>\n",
       "      <td>6.312919</td>\n",
       "      <td>-0.07117</td>\n",
       "      <td>-0.233816</td>\n",
       "      <td>-0.07117</td>\n",
       "      <td>-3.222615</td>\n",
       "      <td>-0.303284</td>\n",
       "      <td>-0.30751</td>\n",
       "    </tr>\n",
       "    <tr>\n",
       "      <th>790</th>\n",
       "      <td>1.0</td>\n",
       "      <td>-0.076924</td>\n",
       "      <td>0.654143</td>\n",
       "      <td>0.401709</td>\n",
       "      <td>0.104417</td>\n",
       "      <td>-0.286498</td>\n",
       "      <td>-0.250192</td>\n",
       "      <td>-0.269273</td>\n",
       "      <td>-0.576179</td>\n",
       "      <td>1.262802</td>\n",
       "      <td>...</td>\n",
       "      <td>-0.233816</td>\n",
       "      <td>-0.046524</td>\n",
       "      <td>0.329453</td>\n",
       "      <td>-0.158405</td>\n",
       "      <td>-0.07117</td>\n",
       "      <td>-0.233816</td>\n",
       "      <td>-0.07117</td>\n",
       "      <td>0.310307</td>\n",
       "      <td>-0.303284</td>\n",
       "      <td>-0.30751</td>\n",
       "    </tr>\n",
       "    <tr>\n",
       "      <th>536</th>\n",
       "      <td>1.0</td>\n",
       "      <td>-0.592530</td>\n",
       "      <td>-0.068118</td>\n",
       "      <td>-1.418761</td>\n",
       "      <td>-1.008440</td>\n",
       "      <td>-0.286498</td>\n",
       "      <td>0.531795</td>\n",
       "      <td>-0.592901</td>\n",
       "      <td>-0.844157</td>\n",
       "      <td>1.072835</td>\n",
       "      <td>...</td>\n",
       "      <td>-0.233816</td>\n",
       "      <td>-0.046524</td>\n",
       "      <td>0.329453</td>\n",
       "      <td>-0.158405</td>\n",
       "      <td>-0.07117</td>\n",
       "      <td>-0.233816</td>\n",
       "      <td>-0.07117</td>\n",
       "      <td>0.310307</td>\n",
       "      <td>-0.303284</td>\n",
       "      <td>-0.30751</td>\n",
       "    </tr>\n",
       "    <tr>\n",
       "      <th>1162</th>\n",
       "      <td>1.0</td>\n",
       "      <td>0.140053</td>\n",
       "      <td>-0.790380</td>\n",
       "      <td>-2.328996</td>\n",
       "      <td>0.733423</td>\n",
       "      <td>-0.286498</td>\n",
       "      <td>1.821624</td>\n",
       "      <td>2.595432</td>\n",
       "      <td>2.626154</td>\n",
       "      <td>-0.794401</td>\n",
       "      <td>...</td>\n",
       "      <td>-0.233816</td>\n",
       "      <td>-0.046524</td>\n",
       "      <td>0.329453</td>\n",
       "      <td>-0.158405</td>\n",
       "      <td>-0.07117</td>\n",
       "      <td>-0.233816</td>\n",
       "      <td>-0.07117</td>\n",
       "      <td>0.310307</td>\n",
       "      <td>-0.303284</td>\n",
       "      <td>-0.30751</td>\n",
       "    </tr>\n",
       "  </tbody>\n",
       "</table>\n",
       "<p>5 rows × 51 columns</p>\n",
       "</div>"
      ],
      "text/plain": [
       "      const   LotArea  OverallQual  OverallCond  BsmtFinSF1  BsmtFinSF2  \\\n",
       "1223    1.0 -0.756987    -0.068118     0.401709   -1.008440   -0.286498   \n",
       "328     1.0 -0.165861    -0.790380     0.401709   -0.464684    2.064661   \n",
       "790     1.0 -0.076924     0.654143     0.401709    0.104417   -0.286498   \n",
       "536     1.0 -0.592530    -0.068118    -1.418761   -1.008440   -0.286498   \n",
       "1162    1.0  0.140053    -0.790380    -2.328996    0.733423   -0.286498   \n",
       "\n",
       "      BsmtUnfSF  TotalBsmtSF  1stFlrSF  2ndFlrSF  ...  GarageQual_None  \\\n",
       "1223   0.473370    -0.655229 -0.887033  0.565485  ...        -0.233816   \n",
       "328   -1.279359    -1.048377 -1.447107  0.352351  ...        -0.233816   \n",
       "790   -0.250192    -0.269273 -0.576179  1.262802  ...        -0.233816   \n",
       "536    0.531795    -0.592901 -0.844157  1.072835  ...        -0.233816   \n",
       "1162   1.821624     2.595432  2.626154 -0.794401  ...        -0.233816   \n",
       "\n",
       "      GarageQual_Po  GarageQual_TA  GarageCond_Fa  GarageCond_Gd  \\\n",
       "1223      -0.046524       0.329453      -0.158405       -0.07117   \n",
       "328       -0.046524       0.329453       6.312919       -0.07117   \n",
       "790       -0.046524       0.329453      -0.158405       -0.07117   \n",
       "536       -0.046524       0.329453      -0.158405       -0.07117   \n",
       "1162      -0.046524       0.329453      -0.158405       -0.07117   \n",
       "\n",
       "      GarageCond_None  GarageCond_Po  GarageCond_TA  SaleType_New  \\\n",
       "1223        -0.233816       -0.07117       0.310307     -0.303284   \n",
       "328         -0.233816       -0.07117      -3.222615     -0.303284   \n",
       "790         -0.233816       -0.07117       0.310307     -0.303284   \n",
       "536         -0.233816       -0.07117       0.310307     -0.303284   \n",
       "1162        -0.233816       -0.07117       0.310307     -0.303284   \n",
       "\n",
       "      SaleCondition_Partial  \n",
       "1223               -0.30751  \n",
       "328                -0.30751  \n",
       "790                -0.30751  \n",
       "536                -0.30751  \n",
       "1162               -0.30751  \n",
       "\n",
       "[5 rows x 51 columns]"
      ]
     },
     "execution_count": 856,
     "metadata": {},
     "output_type": "execute_result"
    }
   ],
   "source": [
    "X_train_rfe.head(5)"
   ]
  },
  {
   "cell_type": "markdown",
   "metadata": {},
   "source": [
    "## Step 6. Regularization"
   ]
  },
  {
   "cell_type": "markdown",
   "metadata": {},
   "source": [
    "### 1. Ridge Regression"
   ]
  },
  {
   "cell_type": "code",
   "execution_count": 857,
   "metadata": {},
   "outputs": [],
   "source": [
    "# Importing RFE and LinearRegression\n",
    "from sklearn.linear_model import Ridge\n",
    "from sklearn.linear_model import Lasso\n",
    "from sklearn.model_selection import GridSearchCV"
   ]
  },
  {
   "cell_type": "markdown",
   "metadata": {},
   "source": [
    "##### Create list of alphas to tune"
   ]
  },
  {
   "cell_type": "code",
   "execution_count": 858,
   "metadata": {},
   "outputs": [],
   "source": [
    "# list of alphas to tune\n",
    "params = {'alpha': [0.0001, 0.001, 0.01, 0.05, 0.1,0.2, 0.3, 0.4, 0.5, 0.6, 0.7, 0.8, 0.9, 1.0]}\n",
    "params = {'alpha':  [0.001, 0.01, 0.1, 5, 10,20,30,40]}\n",
    "#params = {'alpha': [1,2,3,4,5,10,12,15,18,20,30,40,50,100,200,400,500]}"
   ]
  },
  {
   "cell_type": "markdown",
   "metadata": {},
   "source": [
    "###### i. Create model "
   ]
  },
  {
   "cell_type": "code",
   "execution_count": 859,
   "metadata": {},
   "outputs": [
    {
     "name": "stdout",
     "output_type": "stream",
     "text": [
      "Fitting 5 folds for each of 8 candidates, totalling 40 fits\n"
     ]
    },
    {
     "name": "stderr",
     "output_type": "stream",
     "text": [
      "[Parallel(n_jobs=1)]: Using backend SequentialBackend with 1 concurrent workers.\n",
      "[Parallel(n_jobs=1)]: Done  40 out of  40 | elapsed:    0.6s finished\n"
     ]
    },
    {
     "data": {
      "text/plain": [
       "GridSearchCV(cv=5, error_score='raise-deprecating',\n",
       "             estimator=Ridge(alpha=1.0, copy_X=True, fit_intercept=True,\n",
       "                             max_iter=None, normalize=False, random_state=None,\n",
       "                             solver='auto', tol=0.001),\n",
       "             iid='warn', n_jobs=None,\n",
       "             param_grid={'alpha': [0.001, 0.01, 0.1, 5, 10, 20, 30, 40]},\n",
       "             pre_dispatch='2*n_jobs', refit=True, return_train_score=True,\n",
       "             scoring='neg_mean_absolute_error', verbose=1)"
      ]
     },
     "execution_count": 859,
     "metadata": {},
     "output_type": "execute_result"
    }
   ],
   "source": [
    "ridge = Ridge()\n",
    "\n",
    "# cross validation\n",
    "folds = 5\n",
    "model_cv = GridSearchCV(estimator = ridge, \n",
    "                        param_grid = params, \n",
    "                        scoring= 'neg_mean_absolute_error', \n",
    "                        cv = folds, \n",
    "                        return_train_score=True,\n",
    "                        verbose = 1)            \n",
    "model_cv.fit(X_train_rfe, Y_train) "
   ]
  },
  {
   "cell_type": "markdown",
   "metadata": {},
   "source": [
    "###### ii. Create Dataframe with results of model with different value of alpha"
   ]
  },
  {
   "cell_type": "code",
   "execution_count": 860,
   "metadata": {
    "scrolled": false
   },
   "outputs": [
    {
     "data": {
      "text/html": [
       "<div>\n",
       "<style scoped>\n",
       "    .dataframe tbody tr th:only-of-type {\n",
       "        vertical-align: middle;\n",
       "    }\n",
       "\n",
       "    .dataframe tbody tr th {\n",
       "        vertical-align: top;\n",
       "    }\n",
       "\n",
       "    .dataframe thead th {\n",
       "        text-align: right;\n",
       "    }\n",
       "</style>\n",
       "<table border=\"1\" class=\"dataframe\">\n",
       "  <thead>\n",
       "    <tr style=\"text-align: right;\">\n",
       "      <th></th>\n",
       "      <th>mean_fit_time</th>\n",
       "      <th>std_fit_time</th>\n",
       "      <th>mean_score_time</th>\n",
       "      <th>std_score_time</th>\n",
       "      <th>param_alpha</th>\n",
       "      <th>params</th>\n",
       "      <th>split0_test_score</th>\n",
       "      <th>split1_test_score</th>\n",
       "      <th>split2_test_score</th>\n",
       "      <th>split3_test_score</th>\n",
       "      <th>...</th>\n",
       "      <th>mean_test_score</th>\n",
       "      <th>std_test_score</th>\n",
       "      <th>rank_test_score</th>\n",
       "      <th>split0_train_score</th>\n",
       "      <th>split1_train_score</th>\n",
       "      <th>split2_train_score</th>\n",
       "      <th>split3_train_score</th>\n",
       "      <th>split4_train_score</th>\n",
       "      <th>mean_train_score</th>\n",
       "      <th>std_train_score</th>\n",
       "    </tr>\n",
       "  </thead>\n",
       "  <tbody>\n",
       "    <tr>\n",
       "      <th>0</th>\n",
       "      <td>0.0092</td>\n",
       "      <td>0.000748</td>\n",
       "      <td>0.0032</td>\n",
       "      <td>3.999472e-04</td>\n",
       "      <td>0.001</td>\n",
       "      <td>{'alpha': 0.001}</td>\n",
       "      <td>-0.092667</td>\n",
       "      <td>-0.084093</td>\n",
       "      <td>-0.095639</td>\n",
       "      <td>-0.084215</td>\n",
       "      <td>...</td>\n",
       "      <td>-0.089130</td>\n",
       "      <td>0.004569</td>\n",
       "      <td>5</td>\n",
       "      <td>-0.078179</td>\n",
       "      <td>-0.081769</td>\n",
       "      <td>-0.078675</td>\n",
       "      <td>-0.082263</td>\n",
       "      <td>-0.079977</td>\n",
       "      <td>-0.080173</td>\n",
       "      <td>0.001623</td>\n",
       "    </tr>\n",
       "    <tr>\n",
       "      <th>1</th>\n",
       "      <td>0.0084</td>\n",
       "      <td>0.000490</td>\n",
       "      <td>0.0030</td>\n",
       "      <td>9.536743e-08</td>\n",
       "      <td>0.01</td>\n",
       "      <td>{'alpha': 0.01}</td>\n",
       "      <td>-0.092667</td>\n",
       "      <td>-0.084089</td>\n",
       "      <td>-0.095640</td>\n",
       "      <td>-0.084214</td>\n",
       "      <td>...</td>\n",
       "      <td>-0.089129</td>\n",
       "      <td>0.004571</td>\n",
       "      <td>4</td>\n",
       "      <td>-0.078180</td>\n",
       "      <td>-0.081770</td>\n",
       "      <td>-0.078675</td>\n",
       "      <td>-0.082264</td>\n",
       "      <td>-0.079978</td>\n",
       "      <td>-0.080173</td>\n",
       "      <td>0.001624</td>\n",
       "    </tr>\n",
       "    <tr>\n",
       "      <th>2</th>\n",
       "      <td>0.0150</td>\n",
       "      <td>0.013505</td>\n",
       "      <td>0.0034</td>\n",
       "      <td>4.899014e-04</td>\n",
       "      <td>0.1</td>\n",
       "      <td>{'alpha': 0.1}</td>\n",
       "      <td>-0.092665</td>\n",
       "      <td>-0.084056</td>\n",
       "      <td>-0.095650</td>\n",
       "      <td>-0.084205</td>\n",
       "      <td>...</td>\n",
       "      <td>-0.089120</td>\n",
       "      <td>0.004583</td>\n",
       "      <td>3</td>\n",
       "      <td>-0.078188</td>\n",
       "      <td>-0.081777</td>\n",
       "      <td>-0.078677</td>\n",
       "      <td>-0.082279</td>\n",
       "      <td>-0.079990</td>\n",
       "      <td>-0.080182</td>\n",
       "      <td>0.001626</td>\n",
       "    </tr>\n",
       "    <tr>\n",
       "      <th>3</th>\n",
       "      <td>0.0112</td>\n",
       "      <td>0.005419</td>\n",
       "      <td>0.0038</td>\n",
       "      <td>4.000902e-04</td>\n",
       "      <td>5</td>\n",
       "      <td>{'alpha': 5}</td>\n",
       "      <td>-0.092587</td>\n",
       "      <td>-0.083199</td>\n",
       "      <td>-0.096090</td>\n",
       "      <td>-0.083863</td>\n",
       "      <td>...</td>\n",
       "      <td>-0.088929</td>\n",
       "      <td>0.004963</td>\n",
       "      <td>1</td>\n",
       "      <td>-0.078652</td>\n",
       "      <td>-0.082287</td>\n",
       "      <td>-0.078785</td>\n",
       "      <td>-0.082840</td>\n",
       "      <td>-0.080497</td>\n",
       "      <td>-0.080612</td>\n",
       "      <td>0.001730</td>\n",
       "    </tr>\n",
       "    <tr>\n",
       "      <th>4</th>\n",
       "      <td>0.0084</td>\n",
       "      <td>0.000490</td>\n",
       "      <td>0.0036</td>\n",
       "      <td>4.898624e-04</td>\n",
       "      <td>10</td>\n",
       "      <td>{'alpha': 10}</td>\n",
       "      <td>-0.092565</td>\n",
       "      <td>-0.083203</td>\n",
       "      <td>-0.096402</td>\n",
       "      <td>-0.083873</td>\n",
       "      <td>...</td>\n",
       "      <td>-0.089040</td>\n",
       "      <td>0.005048</td>\n",
       "      <td>2</td>\n",
       "      <td>-0.079059</td>\n",
       "      <td>-0.082675</td>\n",
       "      <td>-0.078959</td>\n",
       "      <td>-0.083229</td>\n",
       "      <td>-0.080945</td>\n",
       "      <td>-0.080973</td>\n",
       "      <td>0.001772</td>\n",
       "    </tr>\n",
       "  </tbody>\n",
       "</table>\n",
       "<p>5 rows × 21 columns</p>\n",
       "</div>"
      ],
      "text/plain": [
       "   mean_fit_time  std_fit_time  mean_score_time  std_score_time param_alpha  \\\n",
       "0         0.0092      0.000748           0.0032    3.999472e-04       0.001   \n",
       "1         0.0084      0.000490           0.0030    9.536743e-08        0.01   \n",
       "2         0.0150      0.013505           0.0034    4.899014e-04         0.1   \n",
       "3         0.0112      0.005419           0.0038    4.000902e-04           5   \n",
       "4         0.0084      0.000490           0.0036    4.898624e-04          10   \n",
       "\n",
       "             params  split0_test_score  split1_test_score  split2_test_score  \\\n",
       "0  {'alpha': 0.001}          -0.092667          -0.084093          -0.095639   \n",
       "1   {'alpha': 0.01}          -0.092667          -0.084089          -0.095640   \n",
       "2    {'alpha': 0.1}          -0.092665          -0.084056          -0.095650   \n",
       "3      {'alpha': 5}          -0.092587          -0.083199          -0.096090   \n",
       "4     {'alpha': 10}          -0.092565          -0.083203          -0.096402   \n",
       "\n",
       "   split3_test_score  ...  mean_test_score  std_test_score  rank_test_score  \\\n",
       "0          -0.084215  ...        -0.089130        0.004569                5   \n",
       "1          -0.084214  ...        -0.089129        0.004571                4   \n",
       "2          -0.084205  ...        -0.089120        0.004583                3   \n",
       "3          -0.083863  ...        -0.088929        0.004963                1   \n",
       "4          -0.083873  ...        -0.089040        0.005048                2   \n",
       "\n",
       "   split0_train_score  split1_train_score  split2_train_score  \\\n",
       "0           -0.078179           -0.081769           -0.078675   \n",
       "1           -0.078180           -0.081770           -0.078675   \n",
       "2           -0.078188           -0.081777           -0.078677   \n",
       "3           -0.078652           -0.082287           -0.078785   \n",
       "4           -0.079059           -0.082675           -0.078959   \n",
       "\n",
       "   split3_train_score  split4_train_score  mean_train_score  std_train_score  \n",
       "0           -0.082263           -0.079977         -0.080173         0.001623  \n",
       "1           -0.082264           -0.079978         -0.080173         0.001624  \n",
       "2           -0.082279           -0.079990         -0.080182         0.001626  \n",
       "3           -0.082840           -0.080497         -0.080612         0.001730  \n",
       "4           -0.083229           -0.080945         -0.080973         0.001772  \n",
       "\n",
       "[5 rows x 21 columns]"
      ]
     },
     "execution_count": 860,
     "metadata": {},
     "output_type": "execute_result"
    }
   ],
   "source": [
    "cv_results = pd.DataFrame(model_cv.cv_results_)\n",
    "cv_results.head()"
   ]
  },
  {
   "cell_type": "markdown",
   "metadata": {},
   "source": [
    "###### iii. Create Graph"
   ]
  },
  {
   "cell_type": "code",
   "execution_count": 861,
   "metadata": {},
   "outputs": [
    {
     "data": {
      "image/png": "[encoded data removed]",
      "text/plain": [
       "<Figure size 432x288 with 1 Axes>"
      ]
     },
     "metadata": {
      "needs_background": "light"
     },
     "output_type": "display_data"
    }
   ],
   "source": [
    "# plotting mean test and train scoes with alpha \n",
    "cv_results['param_alpha'] = cv_results['param_alpha'].astype('int32')\n",
    "\n",
    "# plotting\n",
    "plt.plot(cv_results['param_alpha'], cv_results['mean_train_score'])\n",
    "plt.plot(cv_results['param_alpha'], cv_results['mean_test_score'])\n",
    "plt.xlabel('alpha')\n",
    "plt.ylabel('Negative Mean Absolute Error')\n",
    "plt.title(\"Ridge - Negative Mean Absolute Error and alpha\")\n",
    "plt.legend(['train score', 'test score'], loc='upper left')\n",
    "plt.show()"
   ]
  },
  {
   "cell_type": "markdown",
   "metadata": {},
   "source": [
    "Graph Analysis :- \n",
    "\n",
    "From the Above graph it can be observed that Optimal value of alpha for Ridge Regression is `5`"
   ]
  },
  {
   "cell_type": "markdown",
   "metadata": {},
   "source": [
    "##### iv. Create Model with alpha=`5`"
   ]
  },
  {
   "cell_type": "code",
   "execution_count": 862,
   "metadata": {},
   "outputs": [
    {
     "data": {
      "text/plain": [
       "Ridge(alpha=5, copy_X=True, fit_intercept=True, max_iter=None, normalize=False,\n",
       "      random_state=None, solver='auto', tol=0.001)"
      ]
     },
     "execution_count": 862,
     "metadata": {},
     "output_type": "execute_result"
    }
   ],
   "source": [
    "alpha = 5\n",
    "ridge = Ridge(alpha=alpha)\n",
    "ridge.fit(X_train_rfe, Y_train)"
   ]
  },
  {
   "cell_type": "markdown",
   "metadata": {},
   "source": [
    "##### v. Check Coefficient value of different variables(columns)"
   ]
  },
  {
   "cell_type": "code",
   "execution_count": 863,
   "metadata": {},
   "outputs": [
    {
     "name": "stdout",
     "output_type": "stream",
     "text": [
      "51\n"
     ]
    }
   ],
   "source": [
    "data={'Features':X_train_rfe.columns,'Coefficient Value':ridge.coef_}\n",
    "Ridge_df=pd.DataFrame(data)\n",
    "Ridge_df.sort_values(by=['Coefficient Value'],ascending=False)\n",
    "Ridge_df.count()\n",
    "print(len(X_train_rfe.columns))"
   ]
  },
  {
   "cell_type": "markdown",
   "metadata": {},
   "source": [
    "### 2. Lasso Regression"
   ]
  },
  {
   "cell_type": "markdown",
   "metadata": {},
   "source": [
    "##### Create list of alphas to tune"
   ]
  },
  {
   "cell_type": "code",
   "execution_count": 864,
   "metadata": {},
   "outputs": [],
   "source": [
    "# list of alphas to tune\n",
    "#params = {'alpha': [0.00001,0.0001,0.001,0.005,0.01]}\n",
    "params = {'alpha': [0.0001,0.0002,0.0005, 0.001, 0.002, 0.005]}\n",
    "#params = {'alpha': [1,2,3,4,5,10,12,15,18,20,30,40,50,100,200,400,500,800,1000,2000,3000,4000,5000]}"
   ]
  },
  {
   "cell_type": "markdown",
   "metadata": {},
   "source": [
    "###### i. Create model "
   ]
  },
  {
   "cell_type": "code",
   "execution_count": 865,
   "metadata": {},
   "outputs": [
    {
     "name": "stdout",
     "output_type": "stream",
     "text": [
      "Fitting 5 folds for each of 6 candidates, totalling 30 fits\n"
     ]
    },
    {
     "name": "stderr",
     "output_type": "stream",
     "text": [
      "[Parallel(n_jobs=1)]: Using backend SequentialBackend with 1 concurrent workers.\n",
      "[Parallel(n_jobs=1)]: Done  30 out of  30 | elapsed:    1.4s finished\n"
     ]
    },
    {
     "data": {
      "text/plain": [
       "GridSearchCV(cv=5, error_score='raise-deprecating',\n",
       "             estimator=Lasso(alpha=1.0, copy_X=True, fit_intercept=True,\n",
       "                             max_iter=1000, normalize=False, positive=False,\n",
       "                             precompute=False, random_state=None,\n",
       "                             selection='cyclic', tol=0.0001, warm_start=False),\n",
       "             iid='warn', n_jobs=None,\n",
       "             param_grid={'alpha': [0.0001, 0.0002, 0.0005, 0.001, 0.002,\n",
       "                                   0.005]},\n",
       "             pre_dispatch='2*n_jobs', refit=True, return_train_score=True,\n",
       "             scoring='neg_mean_absolute_error', verbose=1)"
      ]
     },
     "execution_count": 865,
     "metadata": {},
     "output_type": "execute_result"
    }
   ],
   "source": [
    "lasso = Lasso()\n",
    "\n",
    "# cross validation\n",
    "model_cv = GridSearchCV(estimator = lasso, \n",
    "                        param_grid = params, \n",
    "                        scoring= 'neg_mean_absolute_error', \n",
    "                        cv = folds, \n",
    "                        return_train_score=True,\n",
    "                        verbose = 1)            \n",
    "\n",
    "model_cv.fit(X_train_rfe, Y_train) "
   ]
  },
  {
   "cell_type": "markdown",
   "metadata": {},
   "source": [
    "###### ii. Create Dataframe with results of model with different value of alpha"
   ]
  },
  {
   "cell_type": "code",
   "execution_count": 866,
   "metadata": {},
   "outputs": [
    {
     "data": {
      "text/html": [
       "<div>\n",
       "<style scoped>\n",
       "    .dataframe tbody tr th:only-of-type {\n",
       "        vertical-align: middle;\n",
       "    }\n",
       "\n",
       "    .dataframe tbody tr th {\n",
       "        vertical-align: top;\n",
       "    }\n",
       "\n",
       "    .dataframe thead th {\n",
       "        text-align: right;\n",
       "    }\n",
       "</style>\n",
       "<table border=\"1\" class=\"dataframe\">\n",
       "  <thead>\n",
       "    <tr style=\"text-align: right;\">\n",
       "      <th></th>\n",
       "      <th>mean_fit_time</th>\n",
       "      <th>std_fit_time</th>\n",
       "      <th>mean_score_time</th>\n",
       "      <th>std_score_time</th>\n",
       "      <th>param_alpha</th>\n",
       "      <th>params</th>\n",
       "      <th>split0_test_score</th>\n",
       "      <th>split1_test_score</th>\n",
       "      <th>split2_test_score</th>\n",
       "      <th>split3_test_score</th>\n",
       "      <th>...</th>\n",
       "      <th>mean_test_score</th>\n",
       "      <th>std_test_score</th>\n",
       "      <th>rank_test_score</th>\n",
       "      <th>split0_train_score</th>\n",
       "      <th>split1_train_score</th>\n",
       "      <th>split2_train_score</th>\n",
       "      <th>split3_train_score</th>\n",
       "      <th>split4_train_score</th>\n",
       "      <th>mean_train_score</th>\n",
       "      <th>std_train_score</th>\n",
       "    </tr>\n",
       "  </thead>\n",
       "  <tbody>\n",
       "    <tr>\n",
       "      <th>0</th>\n",
       "      <td>0.0910</td>\n",
       "      <td>0.010237</td>\n",
       "      <td>0.0050</td>\n",
       "      <td>2.529790e-03</td>\n",
       "      <td>0.0001</td>\n",
       "      <td>{'alpha': 0.0001}</td>\n",
       "      <td>-0.092694</td>\n",
       "      <td>-0.083760</td>\n",
       "      <td>-0.095604</td>\n",
       "      <td>-0.084096</td>\n",
       "      <td>...</td>\n",
       "      <td>-0.089020</td>\n",
       "      <td>0.004664</td>\n",
       "      <td>2</td>\n",
       "      <td>-0.078282</td>\n",
       "      <td>-0.081897</td>\n",
       "      <td>-0.078762</td>\n",
       "      <td>-0.082449</td>\n",
       "      <td>-0.080210</td>\n",
       "      <td>-0.080320</td>\n",
       "      <td>0.001650</td>\n",
       "    </tr>\n",
       "    <tr>\n",
       "      <th>1</th>\n",
       "      <td>0.0790</td>\n",
       "      <td>0.007975</td>\n",
       "      <td>0.0036</td>\n",
       "      <td>4.899208e-04</td>\n",
       "      <td>0.0002</td>\n",
       "      <td>{'alpha': 0.0002}</td>\n",
       "      <td>-0.092725</td>\n",
       "      <td>-0.083470</td>\n",
       "      <td>-0.095781</td>\n",
       "      <td>-0.083963</td>\n",
       "      <td>...</td>\n",
       "      <td>-0.088983</td>\n",
       "      <td>0.004813</td>\n",
       "      <td>1</td>\n",
       "      <td>-0.078423</td>\n",
       "      <td>-0.082070</td>\n",
       "      <td>-0.078880</td>\n",
       "      <td>-0.082644</td>\n",
       "      <td>-0.080399</td>\n",
       "      <td>-0.080483</td>\n",
       "      <td>0.001674</td>\n",
       "    </tr>\n",
       "    <tr>\n",
       "      <th>2</th>\n",
       "      <td>0.0340</td>\n",
       "      <td>0.004243</td>\n",
       "      <td>0.0032</td>\n",
       "      <td>3.999949e-04</td>\n",
       "      <td>0.0005</td>\n",
       "      <td>{'alpha': 0.0005}</td>\n",
       "      <td>-0.093101</td>\n",
       "      <td>-0.082817</td>\n",
       "      <td>-0.096576</td>\n",
       "      <td>-0.083628</td>\n",
       "      <td>...</td>\n",
       "      <td>-0.089108</td>\n",
       "      <td>0.005318</td>\n",
       "      <td>3</td>\n",
       "      <td>-0.079039</td>\n",
       "      <td>-0.082696</td>\n",
       "      <td>-0.079286</td>\n",
       "      <td>-0.083442</td>\n",
       "      <td>-0.081060</td>\n",
       "      <td>-0.081105</td>\n",
       "      <td>0.001765</td>\n",
       "    </tr>\n",
       "    <tr>\n",
       "      <th>3</th>\n",
       "      <td>0.0190</td>\n",
       "      <td>0.000894</td>\n",
       "      <td>0.0030</td>\n",
       "      <td>1.784161e-07</td>\n",
       "      <td>0.001</td>\n",
       "      <td>{'alpha': 0.001}</td>\n",
       "      <td>-0.093764</td>\n",
       "      <td>-0.083306</td>\n",
       "      <td>-0.097148</td>\n",
       "      <td>-0.084048</td>\n",
       "      <td>...</td>\n",
       "      <td>-0.089761</td>\n",
       "      <td>0.005395</td>\n",
       "      <td>4</td>\n",
       "      <td>-0.080342</td>\n",
       "      <td>-0.084070</td>\n",
       "      <td>-0.079952</td>\n",
       "      <td>-0.084893</td>\n",
       "      <td>-0.082380</td>\n",
       "      <td>-0.082327</td>\n",
       "      <td>0.001960</td>\n",
       "    </tr>\n",
       "    <tr>\n",
       "      <th>4</th>\n",
       "      <td>0.0132</td>\n",
       "      <td>0.000748</td>\n",
       "      <td>0.0028</td>\n",
       "      <td>3.999472e-04</td>\n",
       "      <td>0.002</td>\n",
       "      <td>{'alpha': 0.002}</td>\n",
       "      <td>-0.094870</td>\n",
       "      <td>-0.083354</td>\n",
       "      <td>-0.098396</td>\n",
       "      <td>-0.083557</td>\n",
       "      <td>...</td>\n",
       "      <td>-0.090220</td>\n",
       "      <td>0.006008</td>\n",
       "      <td>5</td>\n",
       "      <td>-0.081840</td>\n",
       "      <td>-0.085605</td>\n",
       "      <td>-0.081209</td>\n",
       "      <td>-0.085809</td>\n",
       "      <td>-0.084253</td>\n",
       "      <td>-0.083743</td>\n",
       "      <td>0.001899</td>\n",
       "    </tr>\n",
       "  </tbody>\n",
       "</table>\n",
       "<p>5 rows × 21 columns</p>\n",
       "</div>"
      ],
      "text/plain": [
       "   mean_fit_time  std_fit_time  mean_score_time  std_score_time param_alpha  \\\n",
       "0         0.0910      0.010237           0.0050    2.529790e-03      0.0001   \n",
       "1         0.0790      0.007975           0.0036    4.899208e-04      0.0002   \n",
       "2         0.0340      0.004243           0.0032    3.999949e-04      0.0005   \n",
       "3         0.0190      0.000894           0.0030    1.784161e-07       0.001   \n",
       "4         0.0132      0.000748           0.0028    3.999472e-04       0.002   \n",
       "\n",
       "              params  split0_test_score  split1_test_score  split2_test_score  \\\n",
       "0  {'alpha': 0.0001}          -0.092694          -0.083760          -0.095604   \n",
       "1  {'alpha': 0.0002}          -0.092725          -0.083470          -0.095781   \n",
       "2  {'alpha': 0.0005}          -0.093101          -0.082817          -0.096576   \n",
       "3   {'alpha': 0.001}          -0.093764          -0.083306          -0.097148   \n",
       "4   {'alpha': 0.002}          -0.094870          -0.083354          -0.098396   \n",
       "\n",
       "   split3_test_score  ...  mean_test_score  std_test_score  rank_test_score  \\\n",
       "0          -0.084096  ...        -0.089020        0.004664                2   \n",
       "1          -0.083963  ...        -0.088983        0.004813                1   \n",
       "2          -0.083628  ...        -0.089108        0.005318                3   \n",
       "3          -0.084048  ...        -0.089761        0.005395                4   \n",
       "4          -0.083557  ...        -0.090220        0.006008                5   \n",
       "\n",
       "   split0_train_score  split1_train_score  split2_train_score  \\\n",
       "0           -0.078282           -0.081897           -0.078762   \n",
       "1           -0.078423           -0.082070           -0.078880   \n",
       "2           -0.079039           -0.082696           -0.079286   \n",
       "3           -0.080342           -0.084070           -0.079952   \n",
       "4           -0.081840           -0.085605           -0.081209   \n",
       "\n",
       "   split3_train_score  split4_train_score  mean_train_score  std_train_score  \n",
       "0           -0.082449           -0.080210         -0.080320         0.001650  \n",
       "1           -0.082644           -0.080399         -0.080483         0.001674  \n",
       "2           -0.083442           -0.081060         -0.081105         0.001765  \n",
       "3           -0.084893           -0.082380         -0.082327         0.001960  \n",
       "4           -0.085809           -0.084253         -0.083743         0.001899  \n",
       "\n",
       "[5 rows x 21 columns]"
      ]
     },
     "execution_count": 866,
     "metadata": {},
     "output_type": "execute_result"
    }
   ],
   "source": [
    "cv_results = pd.DataFrame(model_cv.cv_results_)\n",
    "cv_results.head()"
   ]
  },
  {
   "cell_type": "markdown",
   "metadata": {},
   "source": [
    "###### iii. Create Graph"
   ]
  },
  {
   "cell_type": "code",
   "execution_count": 867,
   "metadata": {},
   "outputs": [
    {
     "data": {
      "image/png": "[encoded data removed]",
      "text/plain": [
       "<Figure size 432x288 with 1 Axes>"
      ]
     },
     "metadata": {
      "needs_background": "light"
     },
     "output_type": "display_data"
    }
   ],
   "source": [
    "# plotting mean test and train scoes with alpha \n",
    "cv_results['param_alpha'] = cv_results['param_alpha'].astype('float32')\n",
    "\n",
    "# plotting\n",
    "plt.plot(cv_results['param_alpha'], cv_results['mean_train_score'])\n",
    "plt.plot(cv_results['param_alpha'], cv_results['mean_test_score'])\n",
    "plt.xlabel('alpha')\n",
    "plt.ylabel('Negative Mean Absolute Error')\n",
    "\n",
    "plt.title(\"Negative Mean Absolute Error and alpha\")\n",
    "plt.legend(['train score', 'test score'], loc='upper left')\n",
    "plt.show()"
   ]
  },
  {
   "cell_type": "markdown",
   "metadata": {},
   "source": [
    "Graph Analysis :- \n",
    "\n",
    "From the Above graph it can be observed that Optimal value of alpha for Lasso  Regression is `0.0002`"
   ]
  },
  {
   "cell_type": "markdown",
   "metadata": {},
   "source": [
    "##### iv. Create Model with alpha=`0.0002`"
   ]
  },
  {
   "cell_type": "code",
   "execution_count": 868,
   "metadata": {},
   "outputs": [
    {
     "data": {
      "text/plain": [
       "Lasso(alpha=0.0002, copy_X=True, fit_intercept=True, max_iter=1000,\n",
       "      normalize=False, positive=False, precompute=False, random_state=None,\n",
       "      selection='cyclic', tol=0.0001, warm_start=False)"
      ]
     },
     "execution_count": 868,
     "metadata": {},
     "output_type": "execute_result"
    }
   ],
   "source": [
    "alpha =0.0002\n",
    "lasso = Lasso(alpha=alpha)\n",
    "lasso.fit(X_train_rfe, Y_train)"
   ]
  },
  {
   "cell_type": "markdown",
   "metadata": {},
   "source": [
    "##### v. Check Coefficient value of different variables"
   ]
  },
  {
   "cell_type": "code",
   "execution_count": 869,
   "metadata": {},
   "outputs": [
    {
     "data": {
      "text/html": [
       "<div>\n",
       "<style scoped>\n",
       "    .dataframe tbody tr th:only-of-type {\n",
       "        vertical-align: middle;\n",
       "    }\n",
       "\n",
       "    .dataframe tbody tr th {\n",
       "        vertical-align: top;\n",
       "    }\n",
       "\n",
       "    .dataframe thead th {\n",
       "        text-align: right;\n",
       "    }\n",
       "</style>\n",
       "<table border=\"1\" class=\"dataframe\">\n",
       "  <thead>\n",
       "    <tr style=\"text-align: right;\">\n",
       "      <th></th>\n",
       "      <th>Features</th>\n",
       "      <th>CoefficientValue</th>\n",
       "    </tr>\n",
       "  </thead>\n",
       "  <tbody>\n",
       "    <tr>\n",
       "      <th>49</th>\n",
       "      <td>SaleType_New</td>\n",
       "      <td>1.307452e-01</td>\n",
       "    </tr>\n",
       "    <tr>\n",
       "      <th>16</th>\n",
       "      <td>MSZoning_RL</td>\n",
       "      <td>1.272969e-01</td>\n",
       "    </tr>\n",
       "    <tr>\n",
       "      <th>10</th>\n",
       "      <td>GrLivArea</td>\n",
       "      <td>1.077854e-01</td>\n",
       "    </tr>\n",
       "    <tr>\n",
       "      <th>2</th>\n",
       "      <td>OverallQual</td>\n",
       "      <td>9.472626e-02</td>\n",
       "    </tr>\n",
       "    <tr>\n",
       "      <th>17</th>\n",
       "      <td>MSZoning_RM</td>\n",
       "      <td>8.311681e-02</td>\n",
       "    </tr>\n",
       "    <tr>\n",
       "      <th>14</th>\n",
       "      <td>MSZoning_FV</td>\n",
       "      <td>6.939643e-02</td>\n",
       "    </tr>\n",
       "    <tr>\n",
       "      <th>3</th>\n",
       "      <td>OverallCond</td>\n",
       "      <td>6.098657e-02</td>\n",
       "    </tr>\n",
       "    <tr>\n",
       "      <th>7</th>\n",
       "      <td>TotalBsmtSF</td>\n",
       "      <td>5.676793e-02</td>\n",
       "    </tr>\n",
       "    <tr>\n",
       "      <th>4</th>\n",
       "      <td>BsmtFinSF1</td>\n",
       "      <td>4.334633e-02</td>\n",
       "    </tr>\n",
       "    <tr>\n",
       "      <th>24</th>\n",
       "      <td>MasVnrType_BrkFace</td>\n",
       "      <td>3.479345e-02</td>\n",
       "    </tr>\n",
       "    <tr>\n",
       "      <th>25</th>\n",
       "      <td>MasVnrType_None</td>\n",
       "      <td>3.400849e-02</td>\n",
       "    </tr>\n",
       "    <tr>\n",
       "      <th>29</th>\n",
       "      <td>Foundation_PConc</td>\n",
       "      <td>3.396544e-02</td>\n",
       "    </tr>\n",
       "    <tr>\n",
       "      <th>12</th>\n",
       "      <td>GarageArea</td>\n",
       "      <td>3.281944e-02</td>\n",
       "    </tr>\n",
       "    <tr>\n",
       "      <th>15</th>\n",
       "      <td>MSZoning_RH</td>\n",
       "      <td>2.962312e-02</td>\n",
       "    </tr>\n",
       "    <tr>\n",
       "      <th>11</th>\n",
       "      <td>Fireplaces</td>\n",
       "      <td>2.777757e-02</td>\n",
       "    </tr>\n",
       "    <tr>\n",
       "      <th>1</th>\n",
       "      <td>LotArea</td>\n",
       "      <td>2.578945e-02</td>\n",
       "    </tr>\n",
       "    <tr>\n",
       "      <th>30</th>\n",
       "      <td>BsmtQual_None</td>\n",
       "      <td>2.147280e-02</td>\n",
       "    </tr>\n",
       "    <tr>\n",
       "      <th>26</th>\n",
       "      <td>MasVnrType_Stone</td>\n",
       "      <td>2.086954e-02</td>\n",
       "    </tr>\n",
       "    <tr>\n",
       "      <th>9</th>\n",
       "      <td>2ndFlrSF</td>\n",
       "      <td>1.727865e-02</td>\n",
       "    </tr>\n",
       "    <tr>\n",
       "      <th>23</th>\n",
       "      <td>Exterior2nd_CmentBd</td>\n",
       "      <td>1.268227e-02</td>\n",
       "    </tr>\n",
       "    <tr>\n",
       "      <th>5</th>\n",
       "      <td>BsmtFinSF2</td>\n",
       "      <td>7.271015e-03</td>\n",
       "    </tr>\n",
       "    <tr>\n",
       "      <th>47</th>\n",
       "      <td>GarageCond_Po</td>\n",
       "      <td>4.060210e-04</td>\n",
       "    </tr>\n",
       "    <tr>\n",
       "      <th>31</th>\n",
       "      <td>BsmtCond_None</td>\n",
       "      <td>1.728490e-15</td>\n",
       "    </tr>\n",
       "    <tr>\n",
       "      <th>32</th>\n",
       "      <td>BsmtFinType1_None</td>\n",
       "      <td>3.069513e-18</td>\n",
       "    </tr>\n",
       "    <tr>\n",
       "      <th>48</th>\n",
       "      <td>GarageCond_TA</td>\n",
       "      <td>0.000000e+00</td>\n",
       "    </tr>\n",
       "    <tr>\n",
       "      <th>45</th>\n",
       "      <td>GarageCond_Gd</td>\n",
       "      <td>0.000000e+00</td>\n",
       "    </tr>\n",
       "    <tr>\n",
       "      <th>38</th>\n",
       "      <td>GarageFinish_None</td>\n",
       "      <td>-0.000000e+00</td>\n",
       "    </tr>\n",
       "    <tr>\n",
       "      <th>43</th>\n",
       "      <td>GarageQual_TA</td>\n",
       "      <td>0.000000e+00</td>\n",
       "    </tr>\n",
       "    <tr>\n",
       "      <th>0</th>\n",
       "      <td>const</td>\n",
       "      <td>0.000000e+00</td>\n",
       "    </tr>\n",
       "    <tr>\n",
       "      <th>6</th>\n",
       "      <td>BsmtUnfSF</td>\n",
       "      <td>-0.000000e+00</td>\n",
       "    </tr>\n",
       "    <tr>\n",
       "      <th>8</th>\n",
       "      <td>1stFlrSF</td>\n",
       "      <td>0.000000e+00</td>\n",
       "    </tr>\n",
       "    <tr>\n",
       "      <th>22</th>\n",
       "      <td>Exterior2nd_CBlock</td>\n",
       "      <td>-6.559985e-05</td>\n",
       "    </tr>\n",
       "    <tr>\n",
       "      <th>41</th>\n",
       "      <td>GarageQual_None</td>\n",
       "      <td>-2.134901e-04</td>\n",
       "    </tr>\n",
       "    <tr>\n",
       "      <th>40</th>\n",
       "      <td>GarageQual_Gd</td>\n",
       "      <td>-4.196857e-04</td>\n",
       "    </tr>\n",
       "    <tr>\n",
       "      <th>46</th>\n",
       "      <td>GarageCond_None</td>\n",
       "      <td>-1.041556e-03</td>\n",
       "    </tr>\n",
       "    <tr>\n",
       "      <th>44</th>\n",
       "      <td>GarageCond_Fa</td>\n",
       "      <td>-1.496085e-03</td>\n",
       "    </tr>\n",
       "    <tr>\n",
       "      <th>20</th>\n",
       "      <td>Exterior1st_CBlock</td>\n",
       "      <td>-3.270691e-03</td>\n",
       "    </tr>\n",
       "    <tr>\n",
       "      <th>39</th>\n",
       "      <td>GarageQual_Fa</td>\n",
       "      <td>-4.352492e-03</td>\n",
       "    </tr>\n",
       "    <tr>\n",
       "      <th>42</th>\n",
       "      <td>GarageQual_Po</td>\n",
       "      <td>-5.291855e-03</td>\n",
       "    </tr>\n",
       "    <tr>\n",
       "      <th>21</th>\n",
       "      <td>Exterior1st_CemntBd</td>\n",
       "      <td>-1.553304e-02</td>\n",
       "    </tr>\n",
       "    <tr>\n",
       "      <th>37</th>\n",
       "      <td>GarageType_None</td>\n",
       "      <td>-1.771517e-02</td>\n",
       "    </tr>\n",
       "    <tr>\n",
       "      <th>33</th>\n",
       "      <td>BsmtFinType2_None</td>\n",
       "      <td>-1.862258e-02</td>\n",
       "    </tr>\n",
       "    <tr>\n",
       "      <th>28</th>\n",
       "      <td>ExterCond_TA</td>\n",
       "      <td>-2.219864e-02</td>\n",
       "    </tr>\n",
       "    <tr>\n",
       "      <th>27</th>\n",
       "      <td>ExterCond_Gd</td>\n",
       "      <td>-2.257725e-02</td>\n",
       "    </tr>\n",
       "    <tr>\n",
       "      <th>34</th>\n",
       "      <td>KitchenQual_Fa</td>\n",
       "      <td>-2.327993e-02</td>\n",
       "    </tr>\n",
       "    <tr>\n",
       "      <th>19</th>\n",
       "      <td>Exterior1st_BrkComm</td>\n",
       "      <td>-2.542716e-02</td>\n",
       "    </tr>\n",
       "    <tr>\n",
       "      <th>35</th>\n",
       "      <td>KitchenQual_Gd</td>\n",
       "      <td>-2.918865e-02</td>\n",
       "    </tr>\n",
       "    <tr>\n",
       "      <th>18</th>\n",
       "      <td>Condition2_PosN</td>\n",
       "      <td>-3.784804e-02</td>\n",
       "    </tr>\n",
       "    <tr>\n",
       "      <th>36</th>\n",
       "      <td>KitchenQual_TA</td>\n",
       "      <td>-4.530867e-02</td>\n",
       "    </tr>\n",
       "    <tr>\n",
       "      <th>13</th>\n",
       "      <td>House Age</td>\n",
       "      <td>-6.550586e-02</td>\n",
       "    </tr>\n",
       "    <tr>\n",
       "      <th>50</th>\n",
       "      <td>SaleCondition_Partial</td>\n",
       "      <td>-1.120017e-01</td>\n",
       "    </tr>\n",
       "  </tbody>\n",
       "</table>\n",
       "</div>"
      ],
      "text/plain": [
       "                 Features  CoefficientValue\n",
       "49           SaleType_New      1.307452e-01\n",
       "16            MSZoning_RL      1.272969e-01\n",
       "10              GrLivArea      1.077854e-01\n",
       "2             OverallQual      9.472626e-02\n",
       "17            MSZoning_RM      8.311681e-02\n",
       "14            MSZoning_FV      6.939643e-02\n",
       "3             OverallCond      6.098657e-02\n",
       "7             TotalBsmtSF      5.676793e-02\n",
       "4              BsmtFinSF1      4.334633e-02\n",
       "24     MasVnrType_BrkFace      3.479345e-02\n",
       "25        MasVnrType_None      3.400849e-02\n",
       "29       Foundation_PConc      3.396544e-02\n",
       "12             GarageArea      3.281944e-02\n",
       "15            MSZoning_RH      2.962312e-02\n",
       "11             Fireplaces      2.777757e-02\n",
       "1                 LotArea      2.578945e-02\n",
       "30          BsmtQual_None      2.147280e-02\n",
       "26       MasVnrType_Stone      2.086954e-02\n",
       "9                2ndFlrSF      1.727865e-02\n",
       "23    Exterior2nd_CmentBd      1.268227e-02\n",
       "5              BsmtFinSF2      7.271015e-03\n",
       "47          GarageCond_Po      4.060210e-04\n",
       "31          BsmtCond_None      1.728490e-15\n",
       "32      BsmtFinType1_None      3.069513e-18\n",
       "48          GarageCond_TA      0.000000e+00\n",
       "45          GarageCond_Gd      0.000000e+00\n",
       "38      GarageFinish_None     -0.000000e+00\n",
       "43          GarageQual_TA      0.000000e+00\n",
       "0                   const      0.000000e+00\n",
       "6               BsmtUnfSF     -0.000000e+00\n",
       "8                1stFlrSF      0.000000e+00\n",
       "22     Exterior2nd_CBlock     -6.559985e-05\n",
       "41        GarageQual_None     -2.134901e-04\n",
       "40          GarageQual_Gd     -4.196857e-04\n",
       "46        GarageCond_None     -1.041556e-03\n",
       "44          GarageCond_Fa     -1.496085e-03\n",
       "20     Exterior1st_CBlock     -3.270691e-03\n",
       "39          GarageQual_Fa     -4.352492e-03\n",
       "42          GarageQual_Po     -5.291855e-03\n",
       "21    Exterior1st_CemntBd     -1.553304e-02\n",
       "37        GarageType_None     -1.771517e-02\n",
       "33      BsmtFinType2_None     -1.862258e-02\n",
       "28           ExterCond_TA     -2.219864e-02\n",
       "27           ExterCond_Gd     -2.257725e-02\n",
       "34         KitchenQual_Fa     -2.327993e-02\n",
       "19    Exterior1st_BrkComm     -2.542716e-02\n",
       "35         KitchenQual_Gd     -2.918865e-02\n",
       "18        Condition2_PosN     -3.784804e-02\n",
       "36         KitchenQual_TA     -4.530867e-02\n",
       "13              House Age     -6.550586e-02\n",
       "50  SaleCondition_Partial     -1.120017e-01"
      ]
     },
     "execution_count": 869,
     "metadata": {},
     "output_type": "execute_result"
    }
   ],
   "source": [
    "data={'Features':X_train_rfe.columns,'CoefficientValue':lasso.coef_}\n",
    "Lasso_df=pd.DataFrame(data)\n",
    "Lasso_df.sort_values(by=['CoefficientValue'],ascending=False)"
   ]
  },
  {
   "cell_type": "markdown",
   "metadata": {},
   "source": [
    "### Comparing Ridge & Lasso Regularization"
   ]
  },
  {
   "cell_type": "markdown",
   "metadata": {},
   "source": [
    "#####  Check number of features in both regularized model"
   ]
  },
  {
   "cell_type": "code",
   "execution_count": 870,
   "metadata": {},
   "outputs": [
    {
     "name": "stdout",
     "output_type": "stream",
     "text": [
      "Number of Columns left after performing lasso:-  44\n"
     ]
    }
   ],
   "source": [
    "# remove columns in lasso where coe fficient value is equal to 0\n",
    "Lasso_df=Lasso_df[Lasso_df.CoefficientValue!=0 ]\n",
    "\n",
    "# Find number of columns remained after Lasso regression\n",
    "lasso_columns=Lasso_df.Features.values\n",
    "print('Number of Columns left after performing lasso:- ' ,len(lasso_columns))"
   ]
  },
  {
   "cell_type": "markdown",
   "metadata": {},
   "source": [
    "From above comparision, Number of columns in Lasso is reduced to 44 from 50.  \n",
    "Lasso have removed reduntant features (by performed `Feature selection`)     \n",
    "Hence Lasso Should be considered over Ridge Regression for this Scenario"
   ]
  },
  {
   "cell_type": "markdown",
   "metadata": {},
   "source": [
    "## Step 7. Model Re-Building after Regularization"
   ]
  },
  {
   "cell_type": "markdown",
   "metadata": {},
   "source": [
    "#####  Perform RFE (after lasso)"
   ]
  },
  {
   "cell_type": "code",
   "execution_count": 871,
   "metadata": {},
   "outputs": [],
   "source": [
    "X_train_new=X_train[lasso_columns]"
   ]
  },
  {
   "cell_type": "code",
   "execution_count": 872,
   "metadata": {},
   "outputs": [],
   "source": [
    "# Running RFE with the output number of the variable equal to 10\n",
    "lm = LinearRegression()\n",
    "lm.fit(X_train_new, Y_train)\n",
    "\n",
    "rfe = RFE(lm, 15)\n",
    "rfe = rfe.fit(X_train_new, Y_train)"
   ]
  },
  {
   "cell_type": "code",
   "execution_count": 873,
   "metadata": {},
   "outputs": [
    {
     "data": {
      "text/plain": [
       "Index(['OverallQual', 'OverallCond', 'BsmtFinSF1', 'TotalBsmtSF', 'GrLivArea',\n",
       "       'Fireplaces', 'GarageArea', 'House Age', 'MSZoning_FV', 'MSZoning_RL',\n",
       "       'MSZoning_RM', 'Condition2_PosN', 'Foundation_PConc', 'SaleType_New',\n",
       "       'SaleCondition_Partial'],\n",
       "      dtype='object')"
      ]
     },
     "execution_count": 873,
     "metadata": {},
     "output_type": "execute_result"
    }
   ],
   "source": [
    "col = X_train_new.columns[rfe.support_]\n",
    "col"
   ]
  },
  {
   "cell_type": "markdown",
   "metadata": {},
   "source": [
    "######  i. Build the model with RFE Columns( After Lasso)"
   ]
  },
  {
   "cell_type": "code",
   "execution_count": 874,
   "metadata": {},
   "outputs": [
    {
     "name": "stdout",
     "output_type": "stream",
     "text": [
      "                            OLS Regression Results                            \n",
      "==============================================================================\n",
      "Dep. Variable:                      y   R-squared:                       0.904\n",
      "Model:                            OLS   Adj. R-squared:                  0.902\n",
      "Method:                 Least Squares   F-statistic:                     599.6\n",
      "Date:                Mon, 08 Jul 2019   Prob (F-statistic):               0.00\n",
      "Time:                        21:43:34   Log-Likelihood:                 662.83\n",
      "No. Observations:                 972   AIC:                            -1294.\n",
      "Df Residuals:                     956   BIC:                            -1216.\n",
      "Df Model:                          15                                         \n",
      "Covariance Type:            nonrobust                                         \n",
      "=========================================================================================\n",
      "                            coef    std err          t      P>|t|      [0.025      0.975]\n",
      "-----------------------------------------------------------------------------------------\n",
      "const                    12.0163      0.004   3028.444      0.000      12.009      12.024\n",
      "OverallQual               0.1042      0.007     15.384      0.000       0.091       0.117\n",
      "OverallCond               0.0677      0.005     15.004      0.000       0.059       0.077\n",
      "BsmtFinSF1                0.0453      0.005      9.662      0.000       0.036       0.054\n",
      "TotalBsmtSF               0.0455      0.005      8.438      0.000       0.035       0.056\n",
      "GrLivArea                 0.1331      0.006     23.814      0.000       0.122       0.144\n",
      "Fireplaces                0.0321      0.005      6.875      0.000       0.023       0.041\n",
      "GarageArea                0.0478      0.005      9.189      0.000       0.038       0.058\n",
      "House Age                -0.0702      0.007    -10.770      0.000      -0.083      -0.057\n",
      "MSZoning_FV               0.0412      0.008      5.293      0.000       0.026       0.056\n",
      "MSZoning_RL               0.0769      0.013      5.859      0.000       0.051       0.103\n",
      "MSZoning_RM               0.0321      0.012      2.752      0.006       0.009       0.055\n",
      "Condition2_PosN          -0.0368      0.003    -10.690      0.000      -0.044      -0.030\n",
      "Foundation_PConc          0.0343      0.006      6.161      0.000       0.023       0.045\n",
      "SaleType_New              0.1268      0.035      3.630      0.000       0.058       0.195\n",
      "SaleCondition_Partial    -0.1067      0.035     -3.046      0.002      -0.175      -0.038\n",
      "==============================================================================\n",
      "Omnibus:                      169.685   Durbin-Watson:                   2.010\n",
      "Prob(Omnibus):                  0.000   Jarque-Bera (JB):             1262.766\n",
      "Skew:                          -0.575   Prob(JB):                    6.22e-275\n",
      "Kurtosis:                       8.464   Cond. No.                         26.5\n",
      "==============================================================================\n",
      "\n",
      "Warnings:\n",
      "[1] Standard Errors assume that the covariance matrix of the errors is correctly specified.\n"
     ]
    }
   ],
   "source": [
    "# Creating dataframe with RFE selected variables\n",
    "X_train_new = X_train_new[col]\n",
    "\n",
    "# Adding a constant variable \n",
    "X_train_new = sm.add_constant(X_train_new)\n",
    "\n",
    "# Running the linear model\n",
    "lm = sm.OLS(list(Y_train),X_train_new).fit()  \n",
    "\n",
    "# Print summary of our linear model\n",
    "print(lm.summary())"
   ]
  },
  {
   "cell_type": "markdown",
   "metadata": {},
   "source": [
    "All columns have p-value less than 0.05 . hence lets check multicollinearity of variables"
   ]
  },
  {
   "cell_type": "code",
   "execution_count": 875,
   "metadata": {},
   "outputs": [],
   "source": [
    "# Dropping the constant \n",
    "X_train_new = X_train_new.drop(['const'], axis=1)"
   ]
  },
  {
   "cell_type": "markdown",
   "metadata": {},
   "source": [
    "###### ii. Checking multicollinearity"
   ]
  },
  {
   "cell_type": "markdown",
   "metadata": {},
   "source": [
    "###### a. Calculate VIF of all variables"
   ]
  },
  {
   "cell_type": "code",
   "execution_count": 876,
   "metadata": {},
   "outputs": [],
   "source": [
    "# Calculate the VIFs for the new model\n",
    "from statsmodels.stats.outliers_influence import variance_inflation_factor"
   ]
  },
  {
   "cell_type": "code",
   "execution_count": 877,
   "metadata": {},
   "outputs": [
    {
     "data": {
      "text/html": [
       "<div>\n",
       "<style scoped>\n",
       "    .dataframe tbody tr th:only-of-type {\n",
       "        vertical-align: middle;\n",
       "    }\n",
       "\n",
       "    .dataframe tbody tr th {\n",
       "        vertical-align: top;\n",
       "    }\n",
       "\n",
       "    .dataframe thead th {\n",
       "        text-align: right;\n",
       "    }\n",
       "</style>\n",
       "<table border=\"1\" class=\"dataframe\">\n",
       "  <thead>\n",
       "    <tr style=\"text-align: right;\">\n",
       "      <th></th>\n",
       "      <th>Features</th>\n",
       "      <th>VIF</th>\n",
       "    </tr>\n",
       "  </thead>\n",
       "  <tbody>\n",
       "    <tr>\n",
       "      <th>13</th>\n",
       "      <td>SaleType_New</td>\n",
       "      <td>77.03</td>\n",
       "    </tr>\n",
       "    <tr>\n",
       "      <th>14</th>\n",
       "      <td>SaleCondition_Partial</td>\n",
       "      <td>76.57</td>\n",
       "    </tr>\n",
       "    <tr>\n",
       "      <th>9</th>\n",
       "      <td>MSZoning_RL</td>\n",
       "      <td>11.26</td>\n",
       "    </tr>\n",
       "    <tr>\n",
       "      <th>10</th>\n",
       "      <td>MSZoning_RM</td>\n",
       "      <td>8.88</td>\n",
       "    </tr>\n",
       "    <tr>\n",
       "      <th>8</th>\n",
       "      <td>MSZoning_FV</td>\n",
       "      <td>4.17</td>\n",
       "    </tr>\n",
       "    <tr>\n",
       "      <th>0</th>\n",
       "      <td>OverallQual</td>\n",
       "      <td>2.99</td>\n",
       "    </tr>\n",
       "    <tr>\n",
       "      <th>7</th>\n",
       "      <td>House Age</td>\n",
       "      <td>2.81</td>\n",
       "    </tr>\n",
       "    <tr>\n",
       "      <th>4</th>\n",
       "      <td>GrLivArea</td>\n",
       "      <td>2.04</td>\n",
       "    </tr>\n",
       "    <tr>\n",
       "      <th>12</th>\n",
       "      <td>Foundation_PConc</td>\n",
       "      <td>1.98</td>\n",
       "    </tr>\n",
       "    <tr>\n",
       "      <th>3</th>\n",
       "      <td>TotalBsmtSF</td>\n",
       "      <td>1.93</td>\n",
       "    </tr>\n",
       "    <tr>\n",
       "      <th>6</th>\n",
       "      <td>GarageArea</td>\n",
       "      <td>1.72</td>\n",
       "    </tr>\n",
       "    <tr>\n",
       "      <th>5</th>\n",
       "      <td>Fireplaces</td>\n",
       "      <td>1.43</td>\n",
       "    </tr>\n",
       "    <tr>\n",
       "      <th>2</th>\n",
       "      <td>BsmtFinSF1</td>\n",
       "      <td>1.41</td>\n",
       "    </tr>\n",
       "    <tr>\n",
       "      <th>1</th>\n",
       "      <td>OverallCond</td>\n",
       "      <td>1.29</td>\n",
       "    </tr>\n",
       "    <tr>\n",
       "      <th>11</th>\n",
       "      <td>Condition2_PosN</td>\n",
       "      <td>1.08</td>\n",
       "    </tr>\n",
       "  </tbody>\n",
       "</table>\n",
       "</div>"
      ],
      "text/plain": [
       "                 Features    VIF\n",
       "13           SaleType_New  77.03\n",
       "14  SaleCondition_Partial  76.57\n",
       "9             MSZoning_RL  11.26\n",
       "10            MSZoning_RM   8.88\n",
       "8             MSZoning_FV   4.17\n",
       "0             OverallQual   2.99\n",
       "7               House Age   2.81\n",
       "4               GrLivArea   2.04\n",
       "12       Foundation_PConc   1.98\n",
       "3             TotalBsmtSF   1.93\n",
       "6              GarageArea   1.72\n",
       "5              Fireplaces   1.43\n",
       "2              BsmtFinSF1   1.41\n",
       "1             OverallCond   1.29\n",
       "11        Condition2_PosN   1.08"
      ]
     },
     "execution_count": 877,
     "metadata": {},
     "output_type": "execute_result"
    }
   ],
   "source": [
    "vif = pd.DataFrame()\n",
    "X = X_train_new\n",
    "vif['Features'] = X.columns\n",
    "vif['VIF'] = [variance_inflation_factor(X.values, i) for i in range(X.shape[1])]\n",
    "vif['VIF'] = round(vif['VIF'], 2)\n",
    "vif = vif.sort_values(by = \"VIF\", ascending = False)\n",
    "vif"
   ]
  },
  {
   "cell_type": "markdown",
   "metadata": {},
   "source": [
    "`SaleType_New` have very high VIF value . \n",
    "\n",
    "Lets drop `SaleType_New` and recalculate VIF"
   ]
  },
  {
   "cell_type": "markdown",
   "metadata": {},
   "source": [
    "###### b. Calculate VIF after dropping `SaleType_New`"
   ]
  },
  {
   "cell_type": "code",
   "execution_count": 878,
   "metadata": {},
   "outputs": [
    {
     "data": {
      "text/html": [
       "<div>\n",
       "<style scoped>\n",
       "    .dataframe tbody tr th:only-of-type {\n",
       "        vertical-align: middle;\n",
       "    }\n",
       "\n",
       "    .dataframe tbody tr th {\n",
       "        vertical-align: top;\n",
       "    }\n",
       "\n",
       "    .dataframe thead th {\n",
       "        text-align: right;\n",
       "    }\n",
       "</style>\n",
       "<table border=\"1\" class=\"dataframe\">\n",
       "  <thead>\n",
       "    <tr style=\"text-align: right;\">\n",
       "      <th></th>\n",
       "      <th>Features</th>\n",
       "      <th>VIF</th>\n",
       "    </tr>\n",
       "  </thead>\n",
       "  <tbody>\n",
       "    <tr>\n",
       "      <th>9</th>\n",
       "      <td>MSZoning_RL</td>\n",
       "      <td>11.26</td>\n",
       "    </tr>\n",
       "    <tr>\n",
       "      <th>10</th>\n",
       "      <td>MSZoning_RM</td>\n",
       "      <td>8.88</td>\n",
       "    </tr>\n",
       "    <tr>\n",
       "      <th>8</th>\n",
       "      <td>MSZoning_FV</td>\n",
       "      <td>4.17</td>\n",
       "    </tr>\n",
       "    <tr>\n",
       "      <th>0</th>\n",
       "      <td>OverallQual</td>\n",
       "      <td>2.97</td>\n",
       "    </tr>\n",
       "    <tr>\n",
       "      <th>7</th>\n",
       "      <td>House Age</td>\n",
       "      <td>2.81</td>\n",
       "    </tr>\n",
       "    <tr>\n",
       "      <th>4</th>\n",
       "      <td>GrLivArea</td>\n",
       "      <td>2.04</td>\n",
       "    </tr>\n",
       "    <tr>\n",
       "      <th>12</th>\n",
       "      <td>Foundation_PConc</td>\n",
       "      <td>1.98</td>\n",
       "    </tr>\n",
       "    <tr>\n",
       "      <th>3</th>\n",
       "      <td>TotalBsmtSF</td>\n",
       "      <td>1.93</td>\n",
       "    </tr>\n",
       "    <tr>\n",
       "      <th>6</th>\n",
       "      <td>GarageArea</td>\n",
       "      <td>1.72</td>\n",
       "    </tr>\n",
       "    <tr>\n",
       "      <th>5</th>\n",
       "      <td>Fireplaces</td>\n",
       "      <td>1.43</td>\n",
       "    </tr>\n",
       "    <tr>\n",
       "      <th>2</th>\n",
       "      <td>BsmtFinSF1</td>\n",
       "      <td>1.41</td>\n",
       "    </tr>\n",
       "    <tr>\n",
       "      <th>1</th>\n",
       "      <td>OverallCond</td>\n",
       "      <td>1.28</td>\n",
       "    </tr>\n",
       "    <tr>\n",
       "      <th>13</th>\n",
       "      <td>SaleCondition_Partial</td>\n",
       "      <td>1.24</td>\n",
       "    </tr>\n",
       "    <tr>\n",
       "      <th>11</th>\n",
       "      <td>Condition2_PosN</td>\n",
       "      <td>1.08</td>\n",
       "    </tr>\n",
       "  </tbody>\n",
       "</table>\n",
       "</div>"
      ],
      "text/plain": [
       "                 Features    VIF\n",
       "9             MSZoning_RL  11.26\n",
       "10            MSZoning_RM   8.88\n",
       "8             MSZoning_FV   4.17\n",
       "0             OverallQual   2.97\n",
       "7               House Age   2.81\n",
       "4               GrLivArea   2.04\n",
       "12       Foundation_PConc   1.98\n",
       "3             TotalBsmtSF   1.93\n",
       "6              GarageArea   1.72\n",
       "5              Fireplaces   1.43\n",
       "2              BsmtFinSF1   1.41\n",
       "1             OverallCond   1.28\n",
       "13  SaleCondition_Partial   1.24\n",
       "11        Condition2_PosN   1.08"
      ]
     },
     "execution_count": 878,
     "metadata": {},
     "output_type": "execute_result"
    }
   ],
   "source": [
    "#Dropping the column having high VIF value\n",
    "X_train_new = X_train_new.drop(['SaleType_New'], axis = 1)\n",
    "\n",
    "vif = pd.DataFrame()\n",
    "X = X_train_new\n",
    "vif['Features'] = X.columns\n",
    "vif['VIF'] = [variance_inflation_factor(X.values, i) for i in range(X.shape[1])]\n",
    "vif['VIF'] = round(vif['VIF'], 2)\n",
    "vif = vif.sort_values(by = \"VIF\", ascending = False)\n",
    "vif"
   ]
  },
  {
   "cell_type": "markdown",
   "metadata": {},
   "source": [
    "`MSZoning_RL` have very high VIF value . \n",
    "\n",
    "Lets drop `MSZoning_RL` and recalculate VIF"
   ]
  },
  {
   "cell_type": "markdown",
   "metadata": {},
   "source": [
    "###### c. Calculate VIF after dropping `MSZoning_RL` "
   ]
  },
  {
   "cell_type": "code",
   "execution_count": 879,
   "metadata": {},
   "outputs": [
    {
     "data": {
      "text/html": [
       "<div>\n",
       "<style scoped>\n",
       "    .dataframe tbody tr th:only-of-type {\n",
       "        vertical-align: middle;\n",
       "    }\n",
       "\n",
       "    .dataframe tbody tr th {\n",
       "        vertical-align: top;\n",
       "    }\n",
       "\n",
       "    .dataframe thead th {\n",
       "        text-align: right;\n",
       "    }\n",
       "</style>\n",
       "<table border=\"1\" class=\"dataframe\">\n",
       "  <thead>\n",
       "    <tr style=\"text-align: right;\">\n",
       "      <th></th>\n",
       "      <th>Features</th>\n",
       "      <th>VIF</th>\n",
       "    </tr>\n",
       "  </thead>\n",
       "  <tbody>\n",
       "    <tr>\n",
       "      <th>0</th>\n",
       "      <td>OverallQual</td>\n",
       "      <td>2.97</td>\n",
       "    </tr>\n",
       "    <tr>\n",
       "      <th>7</th>\n",
       "      <td>House Age</td>\n",
       "      <td>2.72</td>\n",
       "    </tr>\n",
       "    <tr>\n",
       "      <th>4</th>\n",
       "      <td>GrLivArea</td>\n",
       "      <td>2.04</td>\n",
       "    </tr>\n",
       "    <tr>\n",
       "      <th>11</th>\n",
       "      <td>Foundation_PConc</td>\n",
       "      <td>1.98</td>\n",
       "    </tr>\n",
       "    <tr>\n",
       "      <th>3</th>\n",
       "      <td>TotalBsmtSF</td>\n",
       "      <td>1.92</td>\n",
       "    </tr>\n",
       "    <tr>\n",
       "      <th>6</th>\n",
       "      <td>GarageArea</td>\n",
       "      <td>1.71</td>\n",
       "    </tr>\n",
       "    <tr>\n",
       "      <th>5</th>\n",
       "      <td>Fireplaces</td>\n",
       "      <td>1.42</td>\n",
       "    </tr>\n",
       "    <tr>\n",
       "      <th>2</th>\n",
       "      <td>BsmtFinSF1</td>\n",
       "      <td>1.41</td>\n",
       "    </tr>\n",
       "    <tr>\n",
       "      <th>1</th>\n",
       "      <td>OverallCond</td>\n",
       "      <td>1.28</td>\n",
       "    </tr>\n",
       "    <tr>\n",
       "      <th>9</th>\n",
       "      <td>MSZoning_RM</td>\n",
       "      <td>1.26</td>\n",
       "    </tr>\n",
       "    <tr>\n",
       "      <th>12</th>\n",
       "      <td>SaleCondition_Partial</td>\n",
       "      <td>1.24</td>\n",
       "    </tr>\n",
       "    <tr>\n",
       "      <th>8</th>\n",
       "      <td>MSZoning_FV</td>\n",
       "      <td>1.16</td>\n",
       "    </tr>\n",
       "    <tr>\n",
       "      <th>10</th>\n",
       "      <td>Condition2_PosN</td>\n",
       "      <td>1.08</td>\n",
       "    </tr>\n",
       "  </tbody>\n",
       "</table>\n",
       "</div>"
      ],
      "text/plain": [
       "                 Features   VIF\n",
       "0             OverallQual  2.97\n",
       "7               House Age  2.72\n",
       "4               GrLivArea  2.04\n",
       "11       Foundation_PConc  1.98\n",
       "3             TotalBsmtSF  1.92\n",
       "6              GarageArea  1.71\n",
       "5              Fireplaces  1.42\n",
       "2              BsmtFinSF1  1.41\n",
       "1             OverallCond  1.28\n",
       "9             MSZoning_RM  1.26\n",
       "12  SaleCondition_Partial  1.24\n",
       "8             MSZoning_FV  1.16\n",
       "10        Condition2_PosN  1.08"
      ]
     },
     "execution_count": 879,
     "metadata": {},
     "output_type": "execute_result"
    }
   ],
   "source": [
    "#Dropping the column having high VIF value\n",
    "X_train_new = X_train_new.drop(['MSZoning_RL'], axis = 1)\n",
    "\n",
    "vif = pd.DataFrame()\n",
    "X = X_train_new\n",
    "vif['Features'] = X.columns\n",
    "vif['VIF'] = [variance_inflation_factor(X.values, i) for i in range(X.shape[1])]\n",
    "vif['VIF'] = round(vif['VIF'], 2)\n",
    "vif = vif.sort_values(by = \"VIF\", ascending = False)\n",
    "vif"
   ]
  },
  {
   "cell_type": "markdown",
   "metadata": {},
   "source": [
    "All columns have multi collinearity below 5"
   ]
  },
  {
   "cell_type": "markdown",
   "metadata": {},
   "source": [
    "######  iii. Rebuild the model after dropping columns having high multicollinearity"
   ]
  },
  {
   "cell_type": "code",
   "execution_count": 880,
   "metadata": {},
   "outputs": [
    {
     "name": "stdout",
     "output_type": "stream",
     "text": [
      "                            OLS Regression Results                            \n",
      "==============================================================================\n",
      "Dep. Variable:                      y   R-squared:                       0.899\n",
      "Model:                            OLS   Adj. R-squared:                  0.898\n",
      "Method:                 Least Squares   F-statistic:                     656.9\n",
      "Date:                Mon, 08 Jul 2019   Prob (F-statistic):               0.00\n",
      "Time:                        21:43:35   Log-Likelihood:                 639.19\n",
      "No. Observations:                 972   AIC:                            -1250.\n",
      "Df Residuals:                     958   BIC:                            -1182.\n",
      "Df Model:                          13                                         \n",
      "Covariance Type:            nonrobust                                         \n",
      "=========================================================================================\n",
      "                            coef    std err          t      P>|t|      [0.025      0.975]\n",
      "-----------------------------------------------------------------------------------------\n",
      "const                    12.0171      0.004   2961.307      0.000      12.009      12.025\n",
      "OverallQual               0.1059      0.007     15.330      0.000       0.092       0.119\n",
      "OverallCond               0.0678      0.005     14.777      0.000       0.059       0.077\n",
      "BsmtFinSF1                0.0439      0.005      9.169      0.000       0.035       0.053\n",
      "TotalBsmtSF               0.0472      0.006      8.570      0.000       0.036       0.058\n",
      "GrLivArea                 0.1324      0.006     23.142      0.000       0.121       0.144\n",
      "Fireplaces                0.0329      0.005      6.921      0.000       0.024       0.042\n",
      "GarageArea                0.0457      0.005      8.615      0.000       0.035       0.056\n",
      "House Age                -0.0765      0.007    -11.660      0.000      -0.089      -0.064\n",
      "MSZoning_FV               0.0025      0.004      0.595      0.552      -0.006       0.011\n",
      "MSZoning_RM              -0.0312      0.004     -6.953      0.000      -0.040      -0.022\n",
      "Condition2_PosN          -0.0365      0.004    -10.357      0.000      -0.043      -0.030\n",
      "Foundation_PConc          0.0340      0.006      5.970      0.000       0.023       0.045\n",
      "SaleCondition_Partial     0.0188      0.005      4.130      0.000       0.010       0.028\n",
      "==============================================================================\n",
      "Omnibus:                      227.050   Durbin-Watson:                   1.999\n",
      "Prob(Omnibus):                  0.000   Jarque-Bera (JB):             1797.045\n",
      "Skew:                          -0.839   Prob(JB):                         0.00\n",
      "Kurtosis:                       9.447   Cond. No.                         4.36\n",
      "==============================================================================\n",
      "\n",
      "Warnings:\n",
      "[1] Standard Errors assume that the covariance matrix of the errors is correctly specified.\n"
     ]
    }
   ],
   "source": [
    "# Adding a constant variable \n",
    "X_train_new = sm.add_constant(X_train_new)\n",
    "\n",
    " # Running the linear model\n",
    "lm = sm.OLS(list(Y_train),X_train_new).fit()  \n",
    "\n",
    "#Let's see the summary of our linear model\n",
    "print(lm.summary())"
   ]
  },
  {
   "cell_type": "markdown",
   "metadata": {},
   "source": [
    "`MSZoning_FV` is insignificant in presence of other variables.  Hence Drop `Company_porsche` and rebuild the build"
   ]
  },
  {
   "cell_type": "markdown",
   "metadata": {},
   "source": [
    "###### iv. Rebuilding model  after dropping `MSZoning_FV`"
   ]
  },
  {
   "cell_type": "code",
   "execution_count": 881,
   "metadata": {},
   "outputs": [
    {
     "name": "stdout",
     "output_type": "stream",
     "text": [
      "                            OLS Regression Results                            \n",
      "==============================================================================\n",
      "Dep. Variable:                      y   R-squared:                       0.899\n",
      "Model:                            OLS   Adj. R-squared:                  0.898\n",
      "Method:                 Least Squares   F-statistic:                     712.1\n",
      "Date:                Mon, 08 Jul 2019   Prob (F-statistic):               0.00\n",
      "Time:                        21:43:35   Log-Likelihood:                 639.01\n",
      "No. Observations:                 972   AIC:                            -1252.\n",
      "Df Residuals:                     959   BIC:                            -1189.\n",
      "Df Model:                          12                                         \n",
      "Covariance Type:            nonrobust                                         \n",
      "=========================================================================================\n",
      "                            coef    std err          t      P>|t|      [0.025      0.975]\n",
      "-----------------------------------------------------------------------------------------\n",
      "const                    12.0171      0.004   2963.347      0.000      12.009      12.025\n",
      "OverallQual               0.1064      0.007     15.488      0.000       0.093       0.120\n",
      "OverallCond               0.0677      0.005     14.770      0.000       0.059       0.077\n",
      "BsmtFinSF1                0.0439      0.005      9.167      0.000       0.034       0.053\n",
      "TotalBsmtSF               0.0468      0.005      8.566      0.000       0.036       0.058\n",
      "GrLivArea                 0.1323      0.006     23.142      0.000       0.121       0.143\n",
      "Fireplaces                0.0326      0.005      6.901      0.000       0.023       0.042\n",
      "GarageArea                0.0458      0.005      8.630      0.000       0.035       0.056\n",
      "House Age                -0.0767      0.007    -11.710      0.000      -0.090      -0.064\n",
      "MSZoning_RM              -0.0314      0.004     -6.991      0.000      -0.040      -0.023\n",
      "Condition2_PosN          -0.0366      0.004    -10.388      0.000      -0.044      -0.030\n",
      "Foundation_PConc          0.0343      0.006      6.036      0.000       0.023       0.045\n",
      "SaleCondition_Partial     0.0193      0.004      4.293      0.000       0.010       0.028\n",
      "==============================================================================\n",
      "Omnibus:                      226.854   Durbin-Watson:                   1.998\n",
      "Prob(Omnibus):                  0.000   Jarque-Bera (JB):             1790.736\n",
      "Skew:                          -0.838   Prob(JB):                         0.00\n",
      "Kurtosis:                       9.435   Cond. No.                         4.32\n",
      "==============================================================================\n",
      "\n",
      "Warnings:\n",
      "[1] Standard Errors assume that the covariance matrix of the errors is correctly specified.\n"
     ]
    }
   ],
   "source": [
    "#Dropping the insignificant columns\n",
    "X_train_new = X_train_new.drop([\"MSZoning_FV\"], axis = 1)\n",
    "\n",
    "# Adding a constant variable \n",
    "X_train_new = sm.add_constant(X_train_new)\n",
    "\n",
    "# Running the linear model\n",
    "lm = sm.OLS(list(Y_train),X_train_new).fit()  \n",
    "\n",
    "# Print summary of our linear model\n",
    "print(lm.summary())"
   ]
  },
  {
   "cell_type": "markdown",
   "metadata": {},
   "source": [
    "The Adjusted R Square of Train data is :- 0.89"
   ]
  },
  {
   "cell_type": "markdown",
   "metadata": {},
   "source": [
    "## Step 9:- Model Evaluation"
   ]
  },
  {
   "cell_type": "code",
   "execution_count": 882,
   "metadata": {},
   "outputs": [],
   "source": [
    "#Drop constant from X_train_rfe\n",
    "X_train_new = X_train_new.drop(['const'], axis=1)"
   ]
  },
  {
   "cell_type": "code",
   "execution_count": 883,
   "metadata": {},
   "outputs": [],
   "source": [
    "X_test_new = X_test[X_train_new.columns]"
   ]
  },
  {
   "cell_type": "markdown",
   "metadata": {},
   "source": [
    "##### Create Model with similar set of column(as in test data) and check R-Square value"
   ]
  },
  {
   "cell_type": "code",
   "execution_count": 884,
   "metadata": {},
   "outputs": [
    {
     "name": "stdout",
     "output_type": "stream",
     "text": [
      "                            OLS Regression Results                            \n",
      "==============================================================================\n",
      "Dep. Variable:                      y   R-squared:                       0.887\n",
      "Model:                            OLS   Adj. R-squared:                  0.884\n",
      "Method:                 Least Squares   F-statistic:                     288.9\n",
      "Date:                Mon, 08 Jul 2019   Prob (F-statistic):          5.32e-184\n",
      "Time:                        21:43:35   Log-Likelihood:                 241.43\n",
      "No. Observations:                 417   AIC:                            -458.9\n",
      "Df Residuals:                     405   BIC:                            -410.5\n",
      "Df Model:                          11                                         \n",
      "Covariance Type:            nonrobust                                         \n",
      "=========================================================================================\n",
      "                            coef    std err          t      P>|t|      [0.025      0.975]\n",
      "-----------------------------------------------------------------------------------------\n",
      "OverallQual               0.1004      0.013      7.719      0.000       0.075       0.126\n",
      "OverallCond               0.0692      0.008      9.084      0.000       0.054       0.084\n",
      "BsmtFinSF1                0.0445      0.008      5.567      0.000       0.029       0.060\n",
      "TotalBsmtSF               0.0534      0.010      5.346      0.000       0.034       0.073\n",
      "GrLivArea                 0.1415      0.010     14.739      0.000       0.123       0.160\n",
      "Fireplaces                0.0296      0.008      3.588      0.000       0.013       0.046\n",
      "GarageArea                0.0472      0.010      4.815      0.000       0.028       0.066\n",
      "House Age                -0.0551      0.013     -4.291      0.000      -0.080      -0.030\n",
      "MSZoning_RM              -0.0390      0.008     -5.044      0.000      -0.054      -0.024\n",
      "Condition2_PosN        -316.8035      0.179  -1767.925      0.000    -317.156    -316.451\n",
      "Foundation_PConc          0.0435      0.011      4.058      0.000       0.022       0.065\n",
      "SaleCondition_Partial     0.0264      0.008      3.445      0.001       0.011       0.041\n",
      "==============================================================================\n",
      "Omnibus:                      182.124   Durbin-Watson:                   1.977\n",
      "Prob(Omnibus):                  0.000   Jarque-Bera (JB):             1512.476\n",
      "Skew:                          -1.654   Prob(JB):                         0.00\n",
      "Kurtosis:                      11.724   Cond. No.                         54.7\n",
      "==============================================================================\n",
      "\n",
      "Warnings:\n",
      "[1] Standard Errors assume that the covariance matrix of the errors is correctly specified.\n"
     ]
    }
   ],
   "source": [
    "# Adding a constant variable \n",
    "X_test_new = sm.add_constant(X_test_new)\n",
    "\n",
    " # Running the linear model\n",
    "lm_test = sm.OLS(list(Y_test),X_test_new).fit()  \n",
    "\n",
    "#Let's see the summary of our linear model\n",
    "print(lm_test.summary())"
   ]
  },
  {
   "cell_type": "markdown",
   "metadata": {},
   "source": [
    "The Adjusted R Square of Test data is :- 0.88. Hence This can be considered as good model"
   ]
  },
  {
   "cell_type": "markdown",
   "metadata": {},
   "source": [
    "## Step 10:- Result Analysis"
   ]
  },
  {
   "cell_type": "markdown",
   "metadata": {},
   "source": [
    "### Question 1. Which variables are significant in predicting the price of a house"
   ]
  },
  {
   "cell_type": "markdown",
   "metadata": {},
   "source": [
    "The variables are significant in predicting the price of a House are:-"
   ]
  },
  {
   "cell_type": "code",
   "execution_count": 885,
   "metadata": {},
   "outputs": [
    {
     "data": {
      "text/plain": [
       "['OverallQual',\n",
       " 'OverallCond',\n",
       " 'BsmtFinSF1',\n",
       " 'TotalBsmtSF',\n",
       " 'GrLivArea',\n",
       " 'Fireplaces',\n",
       " 'GarageArea',\n",
       " 'House Age',\n",
       " 'MSZoning_RM',\n",
       " 'Condition2_PosN',\n",
       " 'Foundation_PConc',\n",
       " 'SaleCondition_Partial']"
      ]
     },
     "execution_count": 885,
     "metadata": {},
     "output_type": "execute_result"
    }
   ],
   "source": [
    "col=list(X_train_new.columns)\n",
    "col"
   ]
  },
  {
   "cell_type": "markdown",
   "metadata": {},
   "source": [
    "### Question 2. How well those variables describe the price of a House"
   ]
  },
  {
   "cell_type": "raw",
   "metadata": {},
   "source": [
    "The relation between price of House and the variables can be understood  by \n",
    "1. OLS summary \n",
    "2. Best Fit Line Equation\n",
    "3. Datafrmae with variable & Co efficient value"
   ]
  },
  {
   "cell_type": "markdown",
   "metadata": {},
   "source": [
    "###### 1.OLS Summary"
   ]
  },
  {
   "cell_type": "code",
   "execution_count": 886,
   "metadata": {},
   "outputs": [
    {
     "name": "stdout",
     "output_type": "stream",
     "text": [
      "                            OLS Regression Results                            \n",
      "==============================================================================\n",
      "Dep. Variable:                      y   R-squared:                       0.899\n",
      "Model:                            OLS   Adj. R-squared:                  0.898\n",
      "Method:                 Least Squares   F-statistic:                     712.1\n",
      "Date:                Mon, 08 Jul 2019   Prob (F-statistic):               0.00\n",
      "Time:                        21:43:36   Log-Likelihood:                 639.01\n",
      "No. Observations:                 972   AIC:                            -1252.\n",
      "Df Residuals:                     959   BIC:                            -1189.\n",
      "Df Model:                          12                                         \n",
      "Covariance Type:            nonrobust                                         \n",
      "=========================================================================================\n",
      "                            coef    std err          t      P>|t|      [0.025      0.975]\n",
      "-----------------------------------------------------------------------------------------\n",
      "const                    12.0171      0.004   2963.347      0.000      12.009      12.025\n",
      "OverallQual               0.1064      0.007     15.488      0.000       0.093       0.120\n",
      "OverallCond               0.0677      0.005     14.770      0.000       0.059       0.077\n",
      "BsmtFinSF1                0.0439      0.005      9.167      0.000       0.034       0.053\n",
      "TotalBsmtSF               0.0468      0.005      8.566      0.000       0.036       0.058\n",
      "GrLivArea                 0.1323      0.006     23.142      0.000       0.121       0.143\n",
      "Fireplaces                0.0326      0.005      6.901      0.000       0.023       0.042\n",
      "GarageArea                0.0458      0.005      8.630      0.000       0.035       0.056\n",
      "House Age                -0.0767      0.007    -11.710      0.000      -0.090      -0.064\n",
      "MSZoning_RM              -0.0314      0.004     -6.991      0.000      -0.040      -0.023\n",
      "Condition2_PosN          -0.0366      0.004    -10.388      0.000      -0.044      -0.030\n",
      "Foundation_PConc          0.0343      0.006      6.036      0.000       0.023       0.045\n",
      "SaleCondition_Partial     0.0193      0.004      4.293      0.000       0.010       0.028\n",
      "==============================================================================\n",
      "Omnibus:                      226.854   Durbin-Watson:                   1.998\n",
      "Prob(Omnibus):                  0.000   Jarque-Bera (JB):             1790.736\n",
      "Skew:                          -0.838   Prob(JB):                         0.00\n",
      "Kurtosis:                       9.435   Cond. No.                         4.32\n",
      "==============================================================================\n",
      "\n",
      "Warnings:\n",
      "[1] Standard Errors assume that the covariance matrix of the errors is correctly specified.\n"
     ]
    }
   ],
   "source": [
    "print(lm.summary())"
   ]
  },
  {
   "cell_type": "markdown",
   "metadata": {},
   "source": [
    "From OLS Summary , it can be seen that TotalBsmtSF(Total square feet of basement area) impacts the House price the most"
   ]
  },
  {
   "cell_type": "markdown",
   "metadata": {},
   "source": [
    "###### 2. Best Fit Line Equation"
   ]
  },
  {
   "cell_type": "markdown",
   "metadata": {},
   "source": [
    "\n",
    "We can see that the equation of our best fitted line is:\n",
    "\n",
    "$ SalePrice = 0.1064  \\times OverallQual + 0.0677 \\times  OverallCond+ 0.0439 \\times BsmtFinSF1 + 0.0468  \\times  TotalBsmtSF \n",
    "+ 0.1323 \\times GrLivArea  + 0.0326 \\times Fireplaces - 0.0767 \\times House Age + 0.0458 \\times GarageArea - 0.0314 \\times MSZoning_RM -0.0366 \\times Condition2_PosN + 0.0343 \\times Foundation_PConc + 0.0193 \\times SaleCondition_Partial$\n"
   ]
  },
  {
   "cell_type": "markdown",
   "metadata": {},
   "source": [
    "###### 3. Significant Variable List"
   ]
  },
  {
   "cell_type": "markdown",
   "metadata": {},
   "source": [
    "The list of variables in order of their significance is as below"
   ]
  },
  {
   "cell_type": "code",
   "execution_count": 887,
   "metadata": {},
   "outputs": [
    {
     "data": {
      "text/html": [
       "<div>\n",
       "<style scoped>\n",
       "    .dataframe tbody tr th:only-of-type {\n",
       "        vertical-align: middle;\n",
       "    }\n",
       "\n",
       "    .dataframe tbody tr th {\n",
       "        vertical-align: top;\n",
       "    }\n",
       "\n",
       "    .dataframe thead th {\n",
       "        text-align: right;\n",
       "    }\n",
       "</style>\n",
       "<table border=\"1\" class=\"dataframe\">\n",
       "  <thead>\n",
       "    <tr style=\"text-align: right;\">\n",
       "      <th></th>\n",
       "      <th>Features</th>\n",
       "      <th>CoefficientValue</th>\n",
       "    </tr>\n",
       "  </thead>\n",
       "  <tbody>\n",
       "    <tr>\n",
       "      <th>4</th>\n",
       "      <td>GrLivArea</td>\n",
       "      <td>0.1323</td>\n",
       "    </tr>\n",
       "    <tr>\n",
       "      <th>0</th>\n",
       "      <td>OverallQual</td>\n",
       "      <td>0.1064</td>\n",
       "    </tr>\n",
       "    <tr>\n",
       "      <th>7</th>\n",
       "      <td>House Age</td>\n",
       "      <td>0.0767</td>\n",
       "    </tr>\n",
       "    <tr>\n",
       "      <th>1</th>\n",
       "      <td>OverallCond</td>\n",
       "      <td>0.0677</td>\n",
       "    </tr>\n",
       "    <tr>\n",
       "      <th>3</th>\n",
       "      <td>TotalBsmtSF</td>\n",
       "      <td>0.0468</td>\n",
       "    </tr>\n",
       "    <tr>\n",
       "      <th>6</th>\n",
       "      <td>GarageArea</td>\n",
       "      <td>0.0458</td>\n",
       "    </tr>\n",
       "    <tr>\n",
       "      <th>2</th>\n",
       "      <td>BsmtFinSF1</td>\n",
       "      <td>0.0439</td>\n",
       "    </tr>\n",
       "    <tr>\n",
       "      <th>9</th>\n",
       "      <td>Condition2_PosN</td>\n",
       "      <td>0.0366</td>\n",
       "    </tr>\n",
       "    <tr>\n",
       "      <th>10</th>\n",
       "      <td>Foundation_PConc</td>\n",
       "      <td>0.0343</td>\n",
       "    </tr>\n",
       "    <tr>\n",
       "      <th>5</th>\n",
       "      <td>Fireplaces</td>\n",
       "      <td>0.0326</td>\n",
       "    </tr>\n",
       "    <tr>\n",
       "      <th>8</th>\n",
       "      <td>MSZoning_RM</td>\n",
       "      <td>0.0314</td>\n",
       "    </tr>\n",
       "    <tr>\n",
       "      <th>11</th>\n",
       "      <td>SaleCondition_Partial</td>\n",
       "      <td>0.0193</td>\n",
       "    </tr>\n",
       "  </tbody>\n",
       "</table>\n",
       "</div>"
      ],
      "text/plain": [
       "                 Features  CoefficientValue\n",
       "4               GrLivArea            0.1323\n",
       "0             OverallQual            0.1064\n",
       "7               House Age            0.0767\n",
       "1             OverallCond            0.0677\n",
       "3             TotalBsmtSF            0.0468\n",
       "6              GarageArea            0.0458\n",
       "2              BsmtFinSF1            0.0439\n",
       "9         Condition2_PosN            0.0366\n",
       "10       Foundation_PConc            0.0343\n",
       "5              Fireplaces            0.0326\n",
       "8             MSZoning_RM            0.0314\n",
       "11  SaleCondition_Partial            0.0193"
      ]
     },
     "execution_count": 887,
     "metadata": {},
     "output_type": "execute_result"
    }
   ],
   "source": [
    "CoefficientValue= [0.1064,0.0677,0.0439,0.0468,0.1323,0.0326,0.0458,0.0767,0.0314,0.0366,0.0343,0.0193]\n",
    "\n",
    "data={'Features':col,'CoefficientValue':CoefficientValue}\n",
    "df=pd.DataFrame(data)\n",
    "df.sort_values(by=['CoefficientValue'],ascending=False)"
   ]
  },
  {
   "cell_type": "markdown",
   "metadata": {},
   "source": [
    "The above dataframe denotes that Co efficient of `GrLivArea` is highest followed by `OverallQual`  & `House Age` \n",
    "Hence `GrLivArea` is more significant followed by `OverallQual`  & `House Age`"
   ]
  }
 ],
 "metadata": {
  "kernelspec": {
   "display_name": "Python 3",
   "language": "python",
   "name": "python3"
  },
  "language_info": {
   "codemirror_mode": {
    "name": "ipython",
    "version": 3
   },
   "file_extension": ".py",
   "mimetype": "text/x-python",
   "name": "python",
   "nbconvert_exporter": "python",
   "pygments_lexer": "ipython3",
   "version": "3.7.1"
  }
 },
 "nbformat": 4,
 "nbformat_minor": 2
}
