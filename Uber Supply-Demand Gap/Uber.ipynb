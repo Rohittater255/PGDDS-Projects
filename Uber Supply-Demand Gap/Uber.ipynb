{
 "cells": [
  {
   "cell_type": "code",
   "execution_count": 1,
   "metadata": {},
   "outputs": [],
   "source": [
    "# Supress Warnings\n",
    "\n",
    "import warnings\n",
    "warnings.filterwarnings('ignore')"
   ]
  },
  {
   "cell_type": "code",
   "execution_count": 2,
   "metadata": {},
   "outputs": [],
   "source": [
    "# Import the numpy, pandas, matplotlib & seaborn packages\n",
    "\n",
    "import numpy as np\n",
    "import pandas as pd\n",
    "import matplotlib.pyplot as plt\n",
    "import seaborn as sns\n",
    "%matplotlib inline"
   ]
  },
  {
   "cell_type": "markdown",
   "metadata": {},
   "source": [
    "### Reading CSV File"
   ]
  },
  {
   "cell_type": "code",
   "execution_count": 3,
   "metadata": {},
   "outputs": [],
   "source": [
    "#Import Csv File\n",
    "Uber= pd.read_csv(\"C:/Users/Rohit/Desktop/Uber Request Data.csv\",encoding=\"UTF-8\")"
   ]
  },
  {
   "cell_type": "markdown",
   "metadata": {},
   "source": [
    "### Data Cleaning and Preparation"
   ]
  },
  {
   "cell_type": "code",
   "execution_count": 4,
   "metadata": {},
   "outputs": [
    {
     "data": {
      "text/plain": [
       "(6745, 6)"
      ]
     },
     "execution_count": 4,
     "metadata": {},
     "output_type": "execute_result"
    }
   ],
   "source": [
    "Uber.shape"
   ]
  },
  {
   "cell_type": "code",
   "execution_count": 5,
   "metadata": {},
   "outputs": [
    {
     "data": {
      "text/html": [
       "<div>\n",
       "<style scoped>\n",
       "    .dataframe tbody tr th:only-of-type {\n",
       "        vertical-align: middle;\n",
       "    }\n",
       "\n",
       "    .dataframe tbody tr th {\n",
       "        vertical-align: top;\n",
       "    }\n",
       "\n",
       "    .dataframe thead th {\n",
       "        text-align: right;\n",
       "    }\n",
       "</style>\n",
       "<table border=\"1\" class=\"dataframe\">\n",
       "  <thead>\n",
       "    <tr style=\"text-align: right;\">\n",
       "      <th></th>\n",
       "      <th>Request id</th>\n",
       "      <th>Driver id</th>\n",
       "    </tr>\n",
       "  </thead>\n",
       "  <tbody>\n",
       "    <tr>\n",
       "      <th>count</th>\n",
       "      <td>6745.000000</td>\n",
       "      <td>4095.000000</td>\n",
       "    </tr>\n",
       "    <tr>\n",
       "      <th>mean</th>\n",
       "      <td>3384.644922</td>\n",
       "      <td>149.501343</td>\n",
       "    </tr>\n",
       "    <tr>\n",
       "      <th>std</th>\n",
       "      <td>1955.099667</td>\n",
       "      <td>86.051994</td>\n",
       "    </tr>\n",
       "    <tr>\n",
       "      <th>min</th>\n",
       "      <td>1.000000</td>\n",
       "      <td>1.000000</td>\n",
       "    </tr>\n",
       "    <tr>\n",
       "      <th>25%</th>\n",
       "      <td>1691.000000</td>\n",
       "      <td>75.000000</td>\n",
       "    </tr>\n",
       "    <tr>\n",
       "      <th>50%</th>\n",
       "      <td>3387.000000</td>\n",
       "      <td>149.000000</td>\n",
       "    </tr>\n",
       "    <tr>\n",
       "      <th>75%</th>\n",
       "      <td>5080.000000</td>\n",
       "      <td>224.000000</td>\n",
       "    </tr>\n",
       "    <tr>\n",
       "      <th>max</th>\n",
       "      <td>6766.000000</td>\n",
       "      <td>300.000000</td>\n",
       "    </tr>\n",
       "  </tbody>\n",
       "</table>\n",
       "</div>"
      ],
      "text/plain": [
       "        Request id    Driver id\n",
       "count  6745.000000  4095.000000\n",
       "mean   3384.644922   149.501343\n",
       "std    1955.099667    86.051994\n",
       "min       1.000000     1.000000\n",
       "25%    1691.000000    75.000000\n",
       "50%    3387.000000   149.000000\n",
       "75%    5080.000000   224.000000\n",
       "max    6766.000000   300.000000"
      ]
     },
     "execution_count": 5,
     "metadata": {},
     "output_type": "execute_result"
    }
   ],
   "source": [
    "Uber.describe()"
   ]
  },
  {
   "cell_type": "code",
   "execution_count": 6,
   "metadata": {},
   "outputs": [
    {
     "data": {
      "text/plain": [
       "Request id              0\n",
       "Pickup point            0\n",
       "Driver id            2650\n",
       "Status                  0\n",
       "Request timestamp       0\n",
       "Drop timestamp       3914\n",
       "dtype: int64"
      ]
     },
     "execution_count": 6,
     "metadata": {},
     "output_type": "execute_result"
    }
   ],
   "source": [
    "Uber.isnull().sum()"
   ]
  },
  {
   "cell_type": "raw",
   "metadata": {},
   "source": [
    "On Ananlysis of Data It is found that\n",
    "i.There are total 6745 records with 6 columns.\n",
    "ii.There is no duplicate record\n",
    "iii.Morever there is no record having all null columns\n",
    "iv.Hence no record is required to remove from the dataframe"
   ]
  },
  {
   "cell_type": "code",
   "execution_count": 7,
   "metadata": {},
   "outputs": [
    {
     "data": {
      "text/html": [
       "<div>\n",
       "<style scoped>\n",
       "    .dataframe tbody tr th:only-of-type {\n",
       "        vertical-align: middle;\n",
       "    }\n",
       "\n",
       "    .dataframe tbody tr th {\n",
       "        vertical-align: top;\n",
       "    }\n",
       "\n",
       "    .dataframe thead th {\n",
       "        text-align: right;\n",
       "    }\n",
       "</style>\n",
       "<table border=\"1\" class=\"dataframe\">\n",
       "  <thead>\n",
       "    <tr style=\"text-align: right;\">\n",
       "      <th></th>\n",
       "      <th>Request id</th>\n",
       "      <th>Pickup point</th>\n",
       "      <th>Driver id</th>\n",
       "      <th>Status</th>\n",
       "      <th>Request timestamp</th>\n",
       "      <th>Drop timestamp</th>\n",
       "    </tr>\n",
       "  </thead>\n",
       "  <tbody>\n",
       "    <tr>\n",
       "      <th>0</th>\n",
       "      <td>619</td>\n",
       "      <td>Airport</td>\n",
       "      <td>1.0</td>\n",
       "      <td>Trip Completed</td>\n",
       "      <td>2016-11-07 11:51:00</td>\n",
       "      <td>2016-11-07 13:00:00</td>\n",
       "    </tr>\n",
       "    <tr>\n",
       "      <th>1</th>\n",
       "      <td>867</td>\n",
       "      <td>Airport</td>\n",
       "      <td>1.0</td>\n",
       "      <td>Trip Completed</td>\n",
       "      <td>2016-11-07 17:57:00</td>\n",
       "      <td>2016-11-07 18:47:00</td>\n",
       "    </tr>\n",
       "    <tr>\n",
       "      <th>2</th>\n",
       "      <td>1807</td>\n",
       "      <td>City</td>\n",
       "      <td>1.0</td>\n",
       "      <td>Trip Completed</td>\n",
       "      <td>2016-12-07 09:17:00</td>\n",
       "      <td>2016-12-07 09:58:00</td>\n",
       "    </tr>\n",
       "    <tr>\n",
       "      <th>3</th>\n",
       "      <td>2532</td>\n",
       "      <td>Airport</td>\n",
       "      <td>1.0</td>\n",
       "      <td>Trip Completed</td>\n",
       "      <td>2016-12-07 21:08:00</td>\n",
       "      <td>2016-12-07 22:03:00</td>\n",
       "    </tr>\n",
       "    <tr>\n",
       "      <th>4</th>\n",
       "      <td>3112</td>\n",
       "      <td>City</td>\n",
       "      <td>1.0</td>\n",
       "      <td>Trip Completed</td>\n",
       "      <td>2016-07-13 08:33:16</td>\n",
       "      <td>2016-07-13 09:25:47</td>\n",
       "    </tr>\n",
       "  </tbody>\n",
       "</table>\n",
       "</div>"
      ],
      "text/plain": [
       "   Request id Pickup point  Driver id          Status   Request timestamp  \\\n",
       "0         619      Airport        1.0  Trip Completed 2016-11-07 11:51:00   \n",
       "1         867      Airport        1.0  Trip Completed 2016-11-07 17:57:00   \n",
       "2        1807         City        1.0  Trip Completed 2016-12-07 09:17:00   \n",
       "3        2532      Airport        1.0  Trip Completed 2016-12-07 21:08:00   \n",
       "4        3112         City        1.0  Trip Completed 2016-07-13 08:33:16   \n",
       "\n",
       "       Drop timestamp  \n",
       "0 2016-11-07 13:00:00  \n",
       "1 2016-11-07 18:47:00  \n",
       "2 2016-12-07 09:58:00  \n",
       "3 2016-12-07 22:03:00  \n",
       "4 2016-07-13 09:25:47  "
      ]
     },
     "execution_count": 7,
     "metadata": {},
     "output_type": "execute_result"
    }
   ],
   "source": [
    "#Change Date and Time in proper format\n",
    "Uber['Request timestamp'] = pd.to_datetime(Uber['Request timestamp'])\n",
    "Uber['Drop timestamp'] = pd.to_datetime(Uber['Drop timestamp'])\n",
    "Uber.head(5)"
   ]
  },
  {
   "cell_type": "code",
   "execution_count": 8,
   "metadata": {},
   "outputs": [
    {
     "data": {
      "text/html": [
       "<div>\n",
       "<style scoped>\n",
       "    .dataframe tbody tr th:only-of-type {\n",
       "        vertical-align: middle;\n",
       "    }\n",
       "\n",
       "    .dataframe tbody tr th {\n",
       "        vertical-align: top;\n",
       "    }\n",
       "\n",
       "    .dataframe thead th {\n",
       "        text-align: right;\n",
       "    }\n",
       "</style>\n",
       "<table border=\"1\" class=\"dataframe\">\n",
       "  <thead>\n",
       "    <tr style=\"text-align: right;\">\n",
       "      <th></th>\n",
       "      <th>Request id</th>\n",
       "      <th>Pickup point</th>\n",
       "      <th>Driver id</th>\n",
       "      <th>Status</th>\n",
       "      <th>Request timestamp</th>\n",
       "      <th>Drop timestamp</th>\n",
       "      <th>Request Hour</th>\n",
       "      <th>Time Slots</th>\n",
       "    </tr>\n",
       "  </thead>\n",
       "  <tbody>\n",
       "    <tr>\n",
       "      <th>0</th>\n",
       "      <td>619</td>\n",
       "      <td>Airport</td>\n",
       "      <td>1.0</td>\n",
       "      <td>Trip Completed</td>\n",
       "      <td>2016-11-07 11:51:00</td>\n",
       "      <td>2016-11-07 13:00:00</td>\n",
       "      <td>11</td>\n",
       "      <td>Morning</td>\n",
       "    </tr>\n",
       "    <tr>\n",
       "      <th>1</th>\n",
       "      <td>867</td>\n",
       "      <td>Airport</td>\n",
       "      <td>1.0</td>\n",
       "      <td>Trip Completed</td>\n",
       "      <td>2016-11-07 17:57:00</td>\n",
       "      <td>2016-11-07 18:47:00</td>\n",
       "      <td>17</td>\n",
       "      <td>Evening</td>\n",
       "    </tr>\n",
       "    <tr>\n",
       "      <th>2</th>\n",
       "      <td>1807</td>\n",
       "      <td>City</td>\n",
       "      <td>1.0</td>\n",
       "      <td>Trip Completed</td>\n",
       "      <td>2016-12-07 09:17:00</td>\n",
       "      <td>2016-12-07 09:58:00</td>\n",
       "      <td>9</td>\n",
       "      <td>Morning</td>\n",
       "    </tr>\n",
       "    <tr>\n",
       "      <th>3</th>\n",
       "      <td>2532</td>\n",
       "      <td>Airport</td>\n",
       "      <td>1.0</td>\n",
       "      <td>Trip Completed</td>\n",
       "      <td>2016-12-07 21:08:00</td>\n",
       "      <td>2016-12-07 22:03:00</td>\n",
       "      <td>21</td>\n",
       "      <td>Night</td>\n",
       "    </tr>\n",
       "    <tr>\n",
       "      <th>4</th>\n",
       "      <td>3112</td>\n",
       "      <td>City</td>\n",
       "      <td>1.0</td>\n",
       "      <td>Trip Completed</td>\n",
       "      <td>2016-07-13 08:33:16</td>\n",
       "      <td>2016-07-13 09:25:47</td>\n",
       "      <td>8</td>\n",
       "      <td>Morning</td>\n",
       "    </tr>\n",
       "  </tbody>\n",
       "</table>\n",
       "</div>"
      ],
      "text/plain": [
       "   Request id Pickup point  Driver id          Status   Request timestamp  \\\n",
       "0         619      Airport        1.0  Trip Completed 2016-11-07 11:51:00   \n",
       "1         867      Airport        1.0  Trip Completed 2016-11-07 17:57:00   \n",
       "2        1807         City        1.0  Trip Completed 2016-12-07 09:17:00   \n",
       "3        2532      Airport        1.0  Trip Completed 2016-12-07 21:08:00   \n",
       "4        3112         City        1.0  Trip Completed 2016-07-13 08:33:16   \n",
       "\n",
       "       Drop timestamp  Request Hour Time Slots  \n",
       "0 2016-11-07 13:00:00            11    Morning  \n",
       "1 2016-11-07 18:47:00            17    Evening  \n",
       "2 2016-12-07 09:58:00             9    Morning  \n",
       "3 2016-12-07 22:03:00            21      Night  \n",
       "4 2016-07-13 09:25:47             8    Morning  "
      ]
     },
     "execution_count": 8,
     "metadata": {},
     "output_type": "execute_result"
    }
   ],
   "source": [
    "#Add 'Request Hour' and 'Time Slots' Column in Uber DataFrame\n",
    "Uber['Request Hour'] = Uber['Request timestamp'].dt.hour\n",
    "Uber['Time Slots'] = pd.cut(Uber['Request Hour'],[-np.inf,3,7,11,15,19,23],labels=['Late Night','Early Morning','Morning','Afternoon','Evening','Night'])\n",
    "Uber.head(5)"
   ]
  },
  {
   "cell_type": "markdown",
   "metadata": {},
   "source": [
    "## TASK 1:-Identification of most pressing problem"
   ]
  },
  {
   "cell_type": "markdown",
   "metadata": {},
   "source": [
    "### Subtask 1.1:- \n",
    "Create plots to visualise the frequency of requests that get cancelled or show 'no cars available'"
   ]
  },
  {
   "cell_type": "code",
   "execution_count": 9,
   "metadata": {},
   "outputs": [
    {
     "data": {
      "image/png": "[encoded data removed]",
      "text/plain": [
       "<Figure size 432x288 with 1 Axes>"
      ]
     },
     "metadata": {
      "needs_background": "light"
     },
     "output_type": "display_data"
    }
   ],
   "source": [
    "#Graphs Showing the frequency of status of requests(i.e Cancelled, No Cars Available) \n",
    "Uber_Groupby_Status=(Uber[Uber['Status']!='Trip Completed'].groupby(['Status'],as_index=False)).count()\n",
    "\n",
    "plt.title('Cancellation vs No Cars Available')\n",
    "plt.xlabel('Status')\n",
    "plt.ylabel('Count of Request')\n",
    "plt.bar(Uber_Groupby_Status['Status'],Uber_Groupby_Status['Request id'])\n",
    "plt.show()"
   ]
  },
  {
   "cell_type": "raw",
   "metadata": {},
   "source": [
    "Subtask 1.1 Result:-\n",
    "From The Above Graph it can be observed that\n",
    "The Frequency of requests that get cancelled is lower than Frequency of request that show 'no cars available' \n",
    "Hence Unavailibility of cars is more problematic issue than Cancellation of cars"
   ]
  },
  {
   "cell_type": "markdown",
   "metadata": {},
   "source": [
    "### Subtask 1.2:-\n",
    "Identify the most problematic types of requests (i.e. city to airport / airport to city )"
   ]
  },
  {
   "cell_type": "code",
   "execution_count": 10,
   "metadata": {},
   "outputs": [],
   "source": [
    "#Create Two Dataframe Uber_Airport & Uber_City (containing data related to pickup point Airport and city respectively)\n",
    "Uber_Airport=Uber[Uber['Pickup point']=='Airport']\n",
    "Uber_City=Uber[Uber['Pickup point']=='City']"
   ]
  },
  {
   "cell_type": "code",
   "execution_count": 11,
   "metadata": {},
   "outputs": [],
   "source": [
    "#Create Two Dataframe having count of request \n",
    "Uber_Airport_groupby_Status=(Uber_Airport[Uber_Airport['Status']!='Trip Completed'].groupby(['Status'],as_index=False)).count()\n",
    "Uber_City_groupby_Status=(Uber_City[Uber_City['Status']!='Trip Completed'].groupby(['Status'],as_index=False)).count()"
   ]
  },
  {
   "cell_type": "code",
   "execution_count": 12,
   "metadata": {},
   "outputs": [
    {
     "data": {
      "image/png": "[encoded data removed]",
      "text/plain": [
       "<Figure size 864x720 with 2 Axes>"
      ]
     },
     "metadata": {
      "needs_background": "light"
     },
     "output_type": "display_data"
    }
   ],
   "source": [
    "#Create Plot Of Cancellation vs No Cars Available\n",
    "plt.figure(figsize=(12,10))\n",
    "width = 0.6\n",
    "\n",
    "# Create subplot Cancellation vs No Cars Available - Airport to City \n",
    "plt.subplot(121)\n",
    "plt.title('Cancellation vs No Cars Available - Airport to City')\n",
    "plt.xlabel('Status')\n",
    "plt.ylabel('Count of Request')\n",
    "plt.bar(Uber_Airport_groupby_Status['Status'],Uber_Airport_groupby_Status['Request id'],width=width)\n",
    "\n",
    "# Create subplot Cancellation vs No Cars Available - City to Airport\n",
    "plt.subplot(122)\n",
    "plt.title('Cancellation vs No Cars Available - City to Airport')\n",
    "plt.xlabel('Status')\n",
    "plt.ylabel('Count of Request')\n",
    "plt.bar(Uber_City_groupby_Status['Status'],Uber_City_groupby_Status['Request id'],width=width)\n",
    "plt.show()"
   ]
  },
  {
   "cell_type": "raw",
   "metadata": {},
   "source": [
    "Subtask 1.2 Results :-\n",
    "From the above Graph it can be observed that\n",
    "1.For Airport to city, The frequency of requests with 'no cars available' is higher than Frequency of request that get cancelled\n",
    "2.For City to Airport, The frequency of requests that get cancelled is slightly higher than Frequency of request that show 'no cars available'\n",
    "\n",
    "Conclusion:-\n",
    "i.Airport To City is more problematic type of request"
   ]
  },
  {
   "cell_type": "markdown",
   "metadata": {},
   "source": [
    "### Subtask 1.3:-\n",
    "Identify the most problematic the time slots (early mornings, late evenings etc.)"
   ]
  },
  {
   "cell_type": "code",
   "execution_count": 13,
   "metadata": {},
   "outputs": [],
   "source": [
    "#Create Dataframe Uber_Cancelled and Uber_Cars_Unavialable(containing data related to cancelled and unavilable cars respectively)\n",
    "Uber_Cancelled=Uber[Uber['Status']=='Cancelled']\n",
    "Uber_Cars_Unavialable=Uber[Uber['Status']=='No Cars Available']\n",
    "\n",
    "Uber_Cancelled_groupby_Time_Slots=(Uber_Cancelled.groupby(['Time Slots'],as_index=False)).count()\n",
    "Uber_Cars_Unavialable_groupby_Time_Slots=(Uber_Cars_Unavialable.groupby(['Time Slots'],as_index=False)).count()"
   ]
  },
  {
   "cell_type": "code",
   "execution_count": 14,
   "metadata": {},
   "outputs": [
    {
     "data": {
      "image/png": "[encoded data removed]",
      "text/plain": [
       "<Figure size 1224x720 with 2 Axes>"
      ]
     },
     "metadata": {
      "needs_background": "light"
     },
     "output_type": "display_data"
    }
   ],
   "source": [
    "#Create Plot for Time slots vs Count of Request\n",
    "plt.figure(figsize=(17,10))\n",
    "width=0.6\n",
    "\n",
    "# Create subplot Time slots vs Count of Request - Cancellation\n",
    "plt.subplot(121)\n",
    "plt.title('Time slots vs Count of Request - Cancellation')\n",
    "plt.xlabel('Time Slots')\n",
    "plt.ylabel('Count of Request')\n",
    "plt.bar(Uber_Cancelled_groupby_Time_Slots['Time Slots'],Uber_Cancelled_groupby_Time_Slots['Request id'],width=width)\n",
    "\n",
    "# Create subplot Time slots vs Count of Request - Unavailibilty of cars\n",
    "plt.subplot(122)\n",
    "plt.title('Time slots vs Count of Request - No cars Avilable')\n",
    "plt.xlabel('Time Slots')\n",
    "plt.ylabel('Count of Request')\n",
    "plt.bar(Uber_Cars_Unavialable_groupby_Time_Slots['Time Slots'],Uber_Cars_Unavialable_groupby_Time_Slots['Request id'],width=width)\n",
    "\n",
    "plt.show()"
   ]
  },
  {
   "cell_type": "raw",
   "metadata": {},
   "source": [
    "Subtask 1.3 Result :-\n",
    "From the Above Graph it can be observed that \n",
    "1.Early Morning is most problematic time slot for 'Cancellation' Status\n",
    "2.Evening is most problematic time slot For 'No Cars Available' Status"
   ]
  },
  {
   "cell_type": "markdown",
   "metadata": {},
   "source": [
    "## Task 2:-Demand Vs Supply Analysis"
   ]
  },
  {
   "cell_type": "markdown",
   "metadata": {},
   "source": [
    "### SubTask 2.1:- \n",
    "Finding the time slots when the highest gap exists"
   ]
  },
  {
   "cell_type": "code",
   "execution_count": 15,
   "metadata": {},
   "outputs": [],
   "source": [
    "#Create Column Supply & Gap in Uber Data Frame (for analyzing Demand Supply gap)\n",
    "Uber['Supply']=np.where(Uber['Status']=='Trip Completed' ,'YES', 'NO')\n",
    "Uber['Gap']=np.where(Uber['Status']!='Trip Completed' ,'YES', 'NO')"
   ]
  },
  {
   "cell_type": "code",
   "execution_count": 16,
   "metadata": {},
   "outputs": [],
   "source": [
    "# Create Three Data Frames Uber_Demand, Uber_Supply & Uber_Gap (having data related to demand supply and Gap respectively)\n",
    "Uber_Demand=Uber\n",
    "Uber_Supply=Uber[Uber['Supply']=='YES']\n",
    "Uber_Gap=Uber[Uber['Gap']=='YES']"
   ]
  },
  {
   "cell_type": "code",
   "execution_count": 17,
   "metadata": {},
   "outputs": [],
   "source": [
    "#Create Three Data Frames having count of Demand, Supply and Gap of Uber Request grouped by Time slots\n",
    "Uber_Demand_GroupedBy_Time_slot=(Uber_Demand.groupby(['Time Slots'])).count()\n",
    "Uber_Supply_GroupedBy_Time_slot=(Uber_Supply.groupby(['Time Slots'])).count()\n",
    "Uber_Gap_GroupedBy_Time_slot=(Uber_Gap.groupby(['Time Slots'])).count()"
   ]
  },
  {
   "cell_type": "code",
   "execution_count": 18,
   "metadata": {},
   "outputs": [
    {
     "data": {
      "image/png": "[encoded data removed]",
      "text/plain": [
       "<Figure size 1080x720 with 1 Axes>"
      ]
     },
     "metadata": {
      "needs_background": "light"
     },
     "output_type": "display_data"
    }
   ],
   "source": [
    "# Create Plot Showing demand supply and gap for different time slots\n",
    "plt.figure(figsize=(15,10))\n",
    "width=0.12\n",
    "\n",
    "plt.title('Demand Vs Supply vs Gap - Time Slots')\n",
    "plt.xlabel('Time Slots')\n",
    "plt.ylabel('Number of Request')\n",
    "Uber_Demand_GroupedBy_Time_slot['Request id'].plot(kind='bar', color='blue',  width=width, position=2)\n",
    "Uber_Supply_GroupedBy_Time_slot['Supply'].plot(kind='bar', color='green',  width=width, position=1)\n",
    "Uber_Gap_GroupedBy_Time_slot['Gap'].plot(kind='bar', color='red',  width=width, position=0)\n",
    "\n",
    "plt.show()"
   ]
  },
  {
   "cell_type": "raw",
   "metadata": {},
   "source": [
    "Subtask 2.1 Result\n",
    "From the Above Graph it can be observed that highest Gap exists between Supply and Demand is in Evening Time Slot(i.e between 4pm to 8 pm)"
   ]
  },
  {
   "cell_type": "markdown",
   "metadata": {},
   "source": [
    "### SubTask 2.2:- \n",
    "Finding the types of requests (city-airport or airport-city) for which the gap is the most severe in the identified time slots"
   ]
  },
  {
   "cell_type": "code",
   "execution_count": 19,
   "metadata": {},
   "outputs": [],
   "source": [
    "#Create 3 Data Frames having count of Demand, Supply and Gap of Uber Request from Airport to City \n",
    "Uber_Demand_Airport=(Uber_Demand[Uber_Demand['Pickup point']=='Airport'].groupby(['Time Slots'])).count()\n",
    "Uber_Supply_Airport=(Uber_Supply[Uber_Supply['Pickup point']=='Airport'].groupby(['Time Slots'])).count()\n",
    "Uber_Gap_Airport=(Uber_Gap[Uber_Gap['Pickup point']=='Airport'].groupby(['Time Slots'])).count()"
   ]
  },
  {
   "cell_type": "code",
   "execution_count": 20,
   "metadata": {},
   "outputs": [],
   "source": [
    "#Create 3 Data Frames having count of Demand, Supply and Gap of Uber Request from City to Airport \n",
    "Uber_Demand_City=(Uber_Demand[Uber_Demand['Pickup point']=='City'].groupby(['Time Slots'])).count()\n",
    "Uber_Supply_City=(Uber_Supply[Uber_Supply['Pickup point']=='City'].groupby(['Time Slots'])).count()\n",
    "Uber_Gap_City=(Uber_Gap[Uber_Gap['Pickup point']=='City'].groupby(['Time Slots'])).count()"
   ]
  },
  {
   "cell_type": "code",
   "execution_count": 21,
   "metadata": {},
   "outputs": [
    {
     "data": {
      "image/png": "[encoded data removed]",
      "text/plain": [
       "<Figure size 1080x720 with 2 Axes>"
      ]
     },
     "metadata": {
      "needs_background": "light"
     },
     "output_type": "display_data"
    }
   ],
   "source": [
    "# Create Plot Showing for different type of request(Airport-City or City-Airport)\n",
    "plt.figure(figsize=(15,10))\n",
    "width=0.12\n",
    "\n",
    "#Create Subplot 'Demand Vs Supply vs Gap - Aiport to City'\n",
    "plt.subplot(121)\n",
    "plt.title('Demand Vs Supply vs Gap - Aiport to City')\n",
    "plt.xlabel('Time Slots')\n",
    "plt.ylabel('Number of Request')\n",
    "Uber_Demand_Airport['Request id'].plot(kind='bar', color='blue',  width=width, position=2)\n",
    "Uber_Supply_Airport['Supply'].plot(kind='bar', color='green',  width=width, position=1)\n",
    "Uber_Gap_Airport['Gap'].plot(kind='bar', color='red',  width=width, position=0)\n",
    "\n",
    "#Create Subplot 'Demand Vs Supply vs Gap - City to Airport'\n",
    "plt.subplot(122)\n",
    "plt.title('Demand Vs Supply vs Gap - City to Airport')\n",
    "plt.xlabel('Time Slots')\n",
    "plt.ylabel('Number of Request')\n",
    "Uber_Demand_City['Request id'].plot(kind='bar', color='blue',  width=width, position=2)\n",
    "Uber_Supply_City['Supply'].plot(kind='bar', color='green',  width=width, position=1)\n",
    "Uber_Gap_City['Gap'].plot(kind='bar', color='red',  width=width, position=0)\n",
    "\n",
    "plt.show()"
   ]
  },
  {
   "cell_type": "raw",
   "metadata": {},
   "source": [
    "Subtask 2.2 Result\n",
    "From the Above Graph it can be observed that \n",
    "1.For Airport To City, Highest Gap exists between Supply and Demand in 'Evening' Time Slot(i.e between 4 pm to 8 pm)\n",
    "2.For City to Airport, highest Gap exists between Supply and Demand in 'Early Morning' Time Slot(i.e between 4 am to 8 am)"
   ]
  }
 ],
 "metadata": {
  "kernelspec": {
   "display_name": "Python 3",
   "language": "python",
   "name": "python3"
  },
  "language_info": {
   "codemirror_mode": {
    "name": "ipython",
    "version": 3
   },
   "file_extension": ".py",
   "mimetype": "text/x-python",
   "name": "python",
   "nbconvert_exporter": "python",
   "pygments_lexer": "ipython3",
   "version": "3.7.1"
  }
 },
 "nbformat": 4,
 "nbformat_minor": 2
}
